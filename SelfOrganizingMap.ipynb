{
  "cells": [
    {
      "cell_type": "markdown",
      "metadata": {
        "id": "view-in-github",
        "colab_type": "text"
      },
      "source": [
        "<a href=\"https://colab.research.google.com/github/cRED-f/deep-learning/blob/main/SelfOrganizingMap.ipynb\" target=\"_parent\"><img src=\"https://colab.research.google.com/assets/colab-badge.svg\" alt=\"Open In Colab\"/></a>"
      ]
    },
    {
      "cell_type": "markdown",
      "id": "a97737f0-c23b-4e8e-80d1-837756162e4a",
      "metadata": {
        "id": "a97737f0-c23b-4e8e-80d1-837756162e4a"
      },
      "source": [
        "# Self Organizing Map"
      ]
    },
    {
      "cell_type": "markdown",
      "id": "0ef74e12-266b-4e5d-bab9-482568dc403a",
      "metadata": {
        "id": "0ef74e12-266b-4e5d-bab9-482568dc403a"
      },
      "source": [
        "\"\"\"\n",
        "Fraud Detection:\n",
        "\n",
        "Imagine we are deep learning scientist working for bank and we are given a data set\n",
        "that contains information of customers from this bank applying for advanced\n",
        "credit card.\n",
        "\n",
        "So basically, these informations are the data that customers had to provide\n",
        "when filling the application form.\n",
        "\n",
        "Our mission is to detect potential fraud within these applications.\n",
        "\n",
        "We have to give explicit list, of the customers who potentially cheated.\n",
        "\n",
        "we will not make a supervised deep learning model and try to predict if each\n",
        "customer potentially cheated; yes or no with a dependent variable that has binary\n",
        "values.\n",
        "\n",
        "we need to identify some patterns in a high dimensional data sets that have\n",
        "non-linear relationships. And one of these patterns(customers) will be\n",
        "the potential fraud. That is the customers who potentially cheated.\n",
        "\n",
        "We have to return the potential fraudulent customers. <-- unsupervised learning.\n",
        "\"\"\""
      ]
    },
    {
      "cell_type": "markdown",
      "id": "2ca42e58-f694-4a01-95e7-4c6937d43e99",
      "metadata": {
        "id": "2ca42e58-f694-4a01-95e7-4c6937d43e99"
      },
      "source": [
        "# importing libraries"
      ]
    },
    {
      "cell_type": "code",
      "execution_count": null,
      "id": "5738a37b-554d-4c38-93cc-c099b16b2c29",
      "metadata": {
        "id": "5738a37b-554d-4c38-93cc-c099b16b2c29"
      },
      "outputs": [],
      "source": [
        "import numpy as np\n",
        "import pandas as pd\n",
        "import matplotlib.pyplot as plt"
      ]
    },
    {
      "cell_type": "markdown",
      "id": "0f172cd2-9b30-4e23-92d0-90ea7387af66",
      "metadata": {
        "id": "0f172cd2-9b30-4e23-92d0-90ea7387af66"
      },
      "source": [
        "# import the dataset"
      ]
    },
    {
      "cell_type": "code",
      "execution_count": null,
      "id": "6e019cd5-3807-450d-9898-818b7c9b49c5",
      "metadata": {
        "id": "6e019cd5-3807-450d-9898-818b7c9b49c5"
      },
      "outputs": [],
      "source": [
        "dataset = pd.read_csv('Credit_Card_Applications.csv')"
      ]
    },
    {
      "cell_type": "code",
      "execution_count": null,
      "id": "de81510b-8bd9-43dc-8963-472d3b37e046",
      "metadata": {
        "id": "de81510b-8bd9-43dc-8963-472d3b37e046",
        "outputId": "12516d2a-1b69-43e9-a766-5cc83bd3f35a"
      },
      "outputs": [
        {
          "data": {
            "text/html": [
              "<div>\n",
              "<style scoped>\n",
              "    .dataframe tbody tr th:only-of-type {\n",
              "        vertical-align: middle;\n",
              "    }\n",
              "\n",
              "    .dataframe tbody tr th {\n",
              "        vertical-align: top;\n",
              "    }\n",
              "\n",
              "    .dataframe thead th {\n",
              "        text-align: right;\n",
              "    }\n",
              "</style>\n",
              "<table border=\"1\" class=\"dataframe\">\n",
              "  <thead>\n",
              "    <tr style=\"text-align: right;\">\n",
              "      <th></th>\n",
              "      <th>CustomerID</th>\n",
              "      <th>A1</th>\n",
              "      <th>A2</th>\n",
              "      <th>A3</th>\n",
              "      <th>A4</th>\n",
              "      <th>A5</th>\n",
              "      <th>A6</th>\n",
              "      <th>A7</th>\n",
              "      <th>A8</th>\n",
              "      <th>A9</th>\n",
              "      <th>A10</th>\n",
              "      <th>A11</th>\n",
              "      <th>A12</th>\n",
              "      <th>A13</th>\n",
              "      <th>A14</th>\n",
              "      <th>Class</th>\n",
              "    </tr>\n",
              "  </thead>\n",
              "  <tbody>\n",
              "    <tr>\n",
              "      <th>0</th>\n",
              "      <td>15776156</td>\n",
              "      <td>1</td>\n",
              "      <td>22.08</td>\n",
              "      <td>11.460</td>\n",
              "      <td>2</td>\n",
              "      <td>4</td>\n",
              "      <td>4</td>\n",
              "      <td>1.585</td>\n",
              "      <td>0</td>\n",
              "      <td>0</td>\n",
              "      <td>0</td>\n",
              "      <td>1</td>\n",
              "      <td>2</td>\n",
              "      <td>100</td>\n",
              "      <td>1213</td>\n",
              "      <td>0</td>\n",
              "    </tr>\n",
              "    <tr>\n",
              "      <th>1</th>\n",
              "      <td>15739548</td>\n",
              "      <td>0</td>\n",
              "      <td>22.67</td>\n",
              "      <td>7.000</td>\n",
              "      <td>2</td>\n",
              "      <td>8</td>\n",
              "      <td>4</td>\n",
              "      <td>0.165</td>\n",
              "      <td>0</td>\n",
              "      <td>0</td>\n",
              "      <td>0</td>\n",
              "      <td>0</td>\n",
              "      <td>2</td>\n",
              "      <td>160</td>\n",
              "      <td>1</td>\n",
              "      <td>0</td>\n",
              "    </tr>\n",
              "    <tr>\n",
              "      <th>2</th>\n",
              "      <td>15662854</td>\n",
              "      <td>0</td>\n",
              "      <td>29.58</td>\n",
              "      <td>1.750</td>\n",
              "      <td>1</td>\n",
              "      <td>4</td>\n",
              "      <td>4</td>\n",
              "      <td>1.250</td>\n",
              "      <td>0</td>\n",
              "      <td>0</td>\n",
              "      <td>0</td>\n",
              "      <td>1</td>\n",
              "      <td>2</td>\n",
              "      <td>280</td>\n",
              "      <td>1</td>\n",
              "      <td>0</td>\n",
              "    </tr>\n",
              "    <tr>\n",
              "      <th>3</th>\n",
              "      <td>15687688</td>\n",
              "      <td>0</td>\n",
              "      <td>21.67</td>\n",
              "      <td>11.500</td>\n",
              "      <td>1</td>\n",
              "      <td>5</td>\n",
              "      <td>3</td>\n",
              "      <td>0.000</td>\n",
              "      <td>1</td>\n",
              "      <td>1</td>\n",
              "      <td>11</td>\n",
              "      <td>1</td>\n",
              "      <td>2</td>\n",
              "      <td>0</td>\n",
              "      <td>1</td>\n",
              "      <td>1</td>\n",
              "    </tr>\n",
              "    <tr>\n",
              "      <th>4</th>\n",
              "      <td>15715750</td>\n",
              "      <td>1</td>\n",
              "      <td>20.17</td>\n",
              "      <td>8.170</td>\n",
              "      <td>2</td>\n",
              "      <td>6</td>\n",
              "      <td>4</td>\n",
              "      <td>1.960</td>\n",
              "      <td>1</td>\n",
              "      <td>1</td>\n",
              "      <td>14</td>\n",
              "      <td>0</td>\n",
              "      <td>2</td>\n",
              "      <td>60</td>\n",
              "      <td>159</td>\n",
              "      <td>1</td>\n",
              "    </tr>\n",
              "    <tr>\n",
              "      <th>...</th>\n",
              "      <td>...</td>\n",
              "      <td>...</td>\n",
              "      <td>...</td>\n",
              "      <td>...</td>\n",
              "      <td>...</td>\n",
              "      <td>...</td>\n",
              "      <td>...</td>\n",
              "      <td>...</td>\n",
              "      <td>...</td>\n",
              "      <td>...</td>\n",
              "      <td>...</td>\n",
              "      <td>...</td>\n",
              "      <td>...</td>\n",
              "      <td>...</td>\n",
              "      <td>...</td>\n",
              "      <td>...</td>\n",
              "    </tr>\n",
              "    <tr>\n",
              "      <th>685</th>\n",
              "      <td>15808223</td>\n",
              "      <td>1</td>\n",
              "      <td>31.57</td>\n",
              "      <td>10.500</td>\n",
              "      <td>2</td>\n",
              "      <td>14</td>\n",
              "      <td>4</td>\n",
              "      <td>6.500</td>\n",
              "      <td>1</td>\n",
              "      <td>0</td>\n",
              "      <td>0</td>\n",
              "      <td>0</td>\n",
              "      <td>2</td>\n",
              "      <td>0</td>\n",
              "      <td>1</td>\n",
              "      <td>1</td>\n",
              "    </tr>\n",
              "    <tr>\n",
              "      <th>686</th>\n",
              "      <td>15769980</td>\n",
              "      <td>1</td>\n",
              "      <td>20.67</td>\n",
              "      <td>0.415</td>\n",
              "      <td>2</td>\n",
              "      <td>8</td>\n",
              "      <td>4</td>\n",
              "      <td>0.125</td>\n",
              "      <td>0</td>\n",
              "      <td>0</td>\n",
              "      <td>0</td>\n",
              "      <td>0</td>\n",
              "      <td>2</td>\n",
              "      <td>0</td>\n",
              "      <td>45</td>\n",
              "      <td>0</td>\n",
              "    </tr>\n",
              "    <tr>\n",
              "      <th>687</th>\n",
              "      <td>15675450</td>\n",
              "      <td>0</td>\n",
              "      <td>18.83</td>\n",
              "      <td>9.540</td>\n",
              "      <td>2</td>\n",
              "      <td>6</td>\n",
              "      <td>4</td>\n",
              "      <td>0.085</td>\n",
              "      <td>1</td>\n",
              "      <td>0</td>\n",
              "      <td>0</td>\n",
              "      <td>0</td>\n",
              "      <td>2</td>\n",
              "      <td>100</td>\n",
              "      <td>1</td>\n",
              "      <td>1</td>\n",
              "    </tr>\n",
              "    <tr>\n",
              "      <th>688</th>\n",
              "      <td>15776494</td>\n",
              "      <td>0</td>\n",
              "      <td>27.42</td>\n",
              "      <td>14.500</td>\n",
              "      <td>2</td>\n",
              "      <td>14</td>\n",
              "      <td>8</td>\n",
              "      <td>3.085</td>\n",
              "      <td>1</td>\n",
              "      <td>1</td>\n",
              "      <td>1</td>\n",
              "      <td>0</td>\n",
              "      <td>2</td>\n",
              "      <td>120</td>\n",
              "      <td>12</td>\n",
              "      <td>1</td>\n",
              "    </tr>\n",
              "    <tr>\n",
              "      <th>689</th>\n",
              "      <td>15592412</td>\n",
              "      <td>1</td>\n",
              "      <td>41.00</td>\n",
              "      <td>0.040</td>\n",
              "      <td>2</td>\n",
              "      <td>10</td>\n",
              "      <td>4</td>\n",
              "      <td>0.040</td>\n",
              "      <td>0</td>\n",
              "      <td>1</td>\n",
              "      <td>1</td>\n",
              "      <td>0</td>\n",
              "      <td>1</td>\n",
              "      <td>560</td>\n",
              "      <td>1</td>\n",
              "      <td>1</td>\n",
              "    </tr>\n",
              "  </tbody>\n",
              "</table>\n",
              "<p>690 rows × 16 columns</p>\n",
              "</div>"
            ],
            "text/plain": [
              "     CustomerID  A1     A2      A3  A4  A5  A6     A7  A8  A9  A10  A11  A12  \\\n",
              "0      15776156   1  22.08  11.460   2   4   4  1.585   0   0    0    1    2   \n",
              "1      15739548   0  22.67   7.000   2   8   4  0.165   0   0    0    0    2   \n",
              "2      15662854   0  29.58   1.750   1   4   4  1.250   0   0    0    1    2   \n",
              "3      15687688   0  21.67  11.500   1   5   3  0.000   1   1   11    1    2   \n",
              "4      15715750   1  20.17   8.170   2   6   4  1.960   1   1   14    0    2   \n",
              "..          ...  ..    ...     ...  ..  ..  ..    ...  ..  ..  ...  ...  ...   \n",
              "685    15808223   1  31.57  10.500   2  14   4  6.500   1   0    0    0    2   \n",
              "686    15769980   1  20.67   0.415   2   8   4  0.125   0   0    0    0    2   \n",
              "687    15675450   0  18.83   9.540   2   6   4  0.085   1   0    0    0    2   \n",
              "688    15776494   0  27.42  14.500   2  14   8  3.085   1   1    1    0    2   \n",
              "689    15592412   1  41.00   0.040   2  10   4  0.040   0   1    1    0    1   \n",
              "\n",
              "     A13   A14  Class  \n",
              "0    100  1213      0  \n",
              "1    160     1      0  \n",
              "2    280     1      0  \n",
              "3      0     1      1  \n",
              "4     60   159      1  \n",
              "..   ...   ...    ...  \n",
              "685    0     1      1  \n",
              "686    0    45      0  \n",
              "687  100     1      1  \n",
              "688  120    12      1  \n",
              "689  560     1      1  \n",
              "\n",
              "[690 rows x 16 columns]"
            ]
          },
          "execution_count": 3,
          "metadata": {},
          "output_type": "execute_result"
        }
      ],
      "source": [
        "dataset"
      ]
    },
    {
      "cell_type": "code",
      "execution_count": null,
      "id": "b7706734-9532-4e4f-9ab9-26aa16ad3f27",
      "metadata": {
        "id": "b7706734-9532-4e4f-9ab9-26aa16ad3f27",
        "outputId": "bd24d6a7-9f3b-485c-d4ca-cfcf098b0b9b"
      },
      "outputs": [
        {
          "data": {
            "text/plain": [
              "'\\nThis file concerns credit card applications. All attribute names and values have \\nbeen changed to meaningless symbols to protect confidentiality of the data.\\n\\nThis dataset is interesting because there is a good mix of attributes -- continuous, \\nnominal with small numbers of values, and nominal with larger numbers of values. \\nThere are also a few missing values.\\n'"
            ]
          },
          "execution_count": 4,
          "metadata": {},
          "output_type": "execute_result"
        }
      ],
      "source": [
        "\"\"\"\n",
        "This file concerns credit card applications. All attribute names and values have\n",
        "been changed to meaningless symbols to protect confidentiality of the data.\n",
        "\n",
        "This dataset is interesting because there is a good mix of attributes -- continuous,\n",
        "nominal with small numbers of values, and nominal with larger numbers of values.\n",
        "There are also a few missing values.\n",
        "\"\"\""
      ]
    },
    {
      "cell_type": "markdown",
      "id": "ce280c44-bd39-460b-83a9-21e319597c8c",
      "metadata": {
        "id": "ce280c44-bd39-460b-83a9-21e319597c8c"
      },
      "source": [
        "## create two subsets"
      ]
    },
    {
      "cell_type": "code",
      "execution_count": null,
      "id": "81797627-58c8-406f-b957-1b81d79628a5",
      "metadata": {
        "id": "81797627-58c8-406f-b957-1b81d79628a5"
      },
      "outputs": [],
      "source": [
        "X = dataset.iloc[:,:-1].values\n",
        "y = dataset.iloc[:,-1].values"
      ]
    },
    {
      "cell_type": "code",
      "execution_count": null,
      "id": "a3ac0a18-385f-47f6-ae2c-a75184b6a5e1",
      "metadata": {
        "id": "a3ac0a18-385f-47f6-ae2c-a75184b6a5e1",
        "outputId": "8bdea6f6-82eb-4e89-95b5-013f3a0b6a5b"
      },
      "outputs": [
        {
          "data": {
            "text/plain": [
              "array([[1.5776156e+07, 1.0000000e+00, 2.2080000e+01, ..., 2.0000000e+00,\n",
              "        1.0000000e+02, 1.2130000e+03],\n",
              "       [1.5739548e+07, 0.0000000e+00, 2.2670000e+01, ..., 2.0000000e+00,\n",
              "        1.6000000e+02, 1.0000000e+00],\n",
              "       [1.5662854e+07, 0.0000000e+00, 2.9580000e+01, ..., 2.0000000e+00,\n",
              "        2.8000000e+02, 1.0000000e+00],\n",
              "       ...,\n",
              "       [1.5675450e+07, 0.0000000e+00, 1.8830000e+01, ..., 2.0000000e+00,\n",
              "        1.0000000e+02, 1.0000000e+00],\n",
              "       [1.5776494e+07, 0.0000000e+00, 2.7420000e+01, ..., 2.0000000e+00,\n",
              "        1.2000000e+02, 1.2000000e+01],\n",
              "       [1.5592412e+07, 1.0000000e+00, 4.1000000e+01, ..., 1.0000000e+00,\n",
              "        5.6000000e+02, 1.0000000e+00]])"
            ]
          },
          "execution_count": 6,
          "metadata": {},
          "output_type": "execute_result"
        }
      ],
      "source": [
        "X"
      ]
    },
    {
      "cell_type": "code",
      "execution_count": null,
      "id": "9cdc947c-b830-43d0-91a8-3f120958525b",
      "metadata": {
        "id": "9cdc947c-b830-43d0-91a8-3f120958525b",
        "outputId": "9b4d4ec7-30d6-4cb0-cd3e-49eb199a0f04"
      },
      "outputs": [
        {
          "data": {
            "text/plain": [
              "array([0, 0, 0, 1, 1, 1, 0, 1, 0, 0, 1, 1, 0, 1, 0, 1, 1, 1, 0, 1, 0, 0,\n",
              "       0, 0, 0, 1, 0, 1, 1, 1, 1, 0, 0, 1, 0, 0, 1, 1, 1, 1, 1, 0, 1, 0,\n",
              "       0, 1, 0, 1, 0, 1, 0, 0, 0, 0, 0, 1, 1, 0, 1, 1, 0, 0, 1, 0, 1, 1,\n",
              "       0, 0, 0, 1, 0, 0, 0, 1, 1, 0, 0, 0, 0, 1, 1, 0, 0, 0, 0, 1, 0, 1,\n",
              "       1, 0, 0, 0, 0, 1, 0, 1, 0, 0, 0, 1, 0, 1, 1, 1, 0, 1, 1, 0, 1, 0,\n",
              "       0, 0, 0, 1, 0, 1, 1, 1, 1, 1, 1, 0, 0, 1, 1, 0, 1, 0, 1, 1, 1, 0,\n",
              "       0, 0, 0, 0, 0, 1, 1, 1, 0, 0, 0, 1, 0, 1, 1, 0, 0, 1, 1, 0, 0, 0,\n",
              "       1, 1, 1, 0, 1, 0, 0, 0, 1, 1, 0, 0, 0, 1, 0, 0, 0, 1, 0, 0, 1, 0,\n",
              "       0, 0, 1, 1, 0, 0, 1, 1, 1, 0, 0, 0, 0, 0, 0, 1, 0, 0, 0, 1, 1, 0,\n",
              "       0, 0, 1, 0, 1, 0, 1, 1, 0, 0, 0, 0, 1, 1, 0, 0, 0, 1, 0, 0, 0, 1,\n",
              "       1, 0, 1, 0, 0, 0, 0, 1, 1, 1, 1, 0, 0, 1, 1, 1, 0, 0, 0, 1, 1, 1,\n",
              "       1, 0, 0, 0, 0, 1, 1, 1, 0, 0, 1, 0, 1, 1, 1, 1, 0, 0, 0, 1, 0, 1,\n",
              "       1, 0, 0, 1, 0, 0, 0, 1, 0, 1, 1, 0, 0, 0, 1, 1, 0, 0, 0, 0, 0, 1,\n",
              "       1, 1, 0, 0, 0, 0, 1, 1, 1, 0, 0, 0, 1, 0, 1, 0, 0, 0, 0, 1, 0, 1,\n",
              "       0, 0, 0, 0, 0, 1, 1, 0, 0, 1, 0, 1, 1, 1, 1, 1, 1, 1, 0, 0, 0, 0,\n",
              "       1, 1, 1, 0, 0, 0, 1, 0, 1, 0, 0, 0, 1, 1, 1, 1, 1, 1, 1, 0, 1, 0,\n",
              "       1, 0, 0, 0, 0, 0, 1, 0, 1, 1, 0, 0, 0, 0, 0, 1, 0, 1, 1, 0, 0, 0,\n",
              "       1, 1, 1, 0, 0, 1, 1, 0, 0, 0, 1, 1, 0, 1, 1, 1, 1, 0, 0, 1, 1, 0,\n",
              "       0, 0, 0, 0, 0, 1, 0, 0, 0, 1, 1, 0, 1, 0, 0, 0, 1, 1, 1, 0, 0, 1,\n",
              "       0, 1, 1, 1, 0, 1, 0, 0, 1, 0, 0, 0, 1, 0, 0, 1, 0, 1, 0, 1, 1, 0,\n",
              "       1, 0, 0, 1, 0, 1, 1, 0, 0, 0, 0, 0, 1, 1, 0, 0, 1, 1, 0, 1, 0, 1,\n",
              "       0, 1, 0, 1, 1, 0, 1, 0, 1, 1, 1, 0, 0, 0, 0, 0, 1, 0, 1, 0, 0, 0,\n",
              "       1, 1, 1, 1, 1, 0, 1, 1, 0, 0, 0, 1, 1, 1, 1, 1, 1, 0, 1, 1, 1, 1,\n",
              "       0, 0, 0, 0, 0, 0, 0, 1, 0, 0, 1, 1, 1, 0, 1, 0, 0, 1, 1, 0, 1, 0,\n",
              "       0, 0, 0, 0, 0, 1, 0, 1, 0, 1, 1, 1, 0, 0, 1, 0, 0, 0, 0, 0, 0, 0,\n",
              "       1, 1, 0, 0, 0, 0, 0, 1, 0, 1, 0, 1, 0, 0, 1, 1, 1, 0, 0, 0, 0, 0,\n",
              "       1, 0, 1, 1, 0, 0, 0, 0, 0, 1, 1, 1, 0, 1, 0, 1, 1, 0, 0, 1, 0, 1,\n",
              "       0, 0, 1, 1, 0, 1, 0, 1, 1, 1, 1, 0, 0, 1, 0, 1, 1, 0, 1, 0, 1, 1,\n",
              "       0, 0, 0, 1, 0, 1, 1, 0, 1, 0, 0, 0, 0, 0, 1, 0, 1, 0, 0, 0, 0, 0,\n",
              "       0, 1, 0, 1, 1, 0, 0, 0, 0, 0, 0, 1, 1, 0, 0, 1, 0, 0, 1, 0, 0, 1,\n",
              "       1, 0, 1, 1, 0, 0, 0, 0, 0, 0, 1, 1, 0, 1, 1, 0, 0, 0, 0, 1, 0, 0,\n",
              "       1, 0, 1, 1, 0, 1, 1, 1], dtype=int64)"
            ]
          },
          "execution_count": 7,
          "metadata": {},
          "output_type": "execute_result"
        }
      ],
      "source": [
        "y"
      ]
    },
    {
      "cell_type": "code",
      "execution_count": null,
      "id": "bbfa66c6-7cf9-4fae-8899-5c866a025e05",
      "metadata": {
        "id": "bbfa66c6-7cf9-4fae-8899-5c866a025e05",
        "outputId": "17c3a8cf-1eea-4450-d10b-7f6d745cb714"
      },
      "outputs": [
        {
          "data": {
            "text/plain": [
              "\"\\nfor each customer, the winning node is the most similar neuron to the customer, then, \\nwe use a neighborhood function like the galch neighborhood function,\\nto update the weight of the neighbors of the winning node to move them closer to \\nthe point. We do this for all the customers in the input space.\\n\\nSo we'll repeat that again. We'll repeat all this many times.\\nAnd each time we'll repeat it, the output space decreases and loses dimensions.\\n\\nIt reduces its dimension little by little. And then it reaches a point where \\nthe neighborhood stops decreasing, where the output space stops decreasing.\\n\\nAnd that's the moment where we obtained our self organizing map in two dimensions\\nwith all the winning nodes that were eventually identified.\\n\\nwhen we think about frauds, we think about outliers because the fraud basically is\\ndefined by something that is far from the general rules. So the frauds are actually\\nthe outlying neurons for self-organizing map.\\n\\nTo detect the outline neurons, we need MID(Mean Interneuron Distance).\\n\\nwe're going to compute the mean of the Euclidean distance between this neuron \\nand the neurons in its neighborhood.\\n\""
            ]
          },
          "execution_count": 8,
          "metadata": {},
          "output_type": "execute_result"
        }
      ],
      "source": [
        "\"\"\"\n",
        "for each customer, the winning node is the most similar neuron to the customer, then,\n",
        "we use a neighborhood function like the galch neighborhood function,\n",
        "to update the weight of the neighbors of the winning node to move them closer to\n",
        "the point. We do this for all the customers in the input space.\n",
        "\n",
        "So we'll repeat that again. We'll repeat all this many times.\n",
        "And each time we'll repeat it, the output space decreases and loses dimensions.\n",
        "\n",
        "It reduces its dimension little by little. And then it reaches a point where\n",
        "the neighborhood stops decreasing, where the output space stops decreasing.\n",
        "\n",
        "And that's the moment where we obtained our self organizing map in two dimensions\n",
        "with all the winning nodes that were eventually identified.\n",
        "\n",
        "when we think about frauds, we think about outliers because the fraud basically is\n",
        "defined by something that is far from the general rules. So the frauds are actually\n",
        "the outlying neurons for self-organizing map.\n",
        "\n",
        "To detect the outline neurons, we need MID(Mean Interneuron Distance).\n",
        "\n",
        "we're going to compute the mean of the Euclidean distance between this neuron\n",
        "and the neurons in its neighborhood.\n",
        "\"\"\""
      ]
    },
    {
      "cell_type": "markdown",
      "id": "030313e7-57a9-49d8-81a7-0e15786f6be4",
      "metadata": {
        "id": "030313e7-57a9-49d8-81a7-0e15786f6be4"
      },
      "source": [
        "# Feature Scaling"
      ]
    },
    {
      "cell_type": "code",
      "execution_count": null,
      "id": "8df7894a-fd73-46e6-b361-c20eca33c771",
      "metadata": {
        "id": "8df7894a-fd73-46e6-b361-c20eca33c771"
      },
      "outputs": [],
      "source": [
        "from sklearn.preprocessing import MinMaxScaler\n",
        "sc = MinMaxScaler(feature_range = (0,1))"
      ]
    },
    {
      "cell_type": "code",
      "execution_count": null,
      "id": "c8322436-fe18-49e9-be86-8e859c4701f8",
      "metadata": {
        "id": "c8322436-fe18-49e9-be86-8e859c4701f8"
      },
      "outputs": [],
      "source": [
        "X = sc.fit_transform(X)"
      ]
    },
    {
      "cell_type": "code",
      "execution_count": null,
      "id": "9d08c86d-eba9-4b53-a30b-13e69c0b8ee6",
      "metadata": {
        "id": "9d08c86d-eba9-4b53-a30b-13e69c0b8ee6",
        "outputId": "bae6e583-b658-431d-a176-770d30d64e2a"
      },
      "outputs": [
        {
          "data": {
            "text/plain": [
              "array([[8.42681467e-01, 1.00000000e+00, 1.25263158e-01, ...,\n",
              "        5.00000000e-01, 5.00000000e-02, 1.21200000e-02],\n",
              "       [6.96090562e-01, 0.00000000e+00, 1.34135338e-01, ...,\n",
              "        5.00000000e-01, 8.00000000e-02, 0.00000000e+00],\n",
              "       [3.88981656e-01, 0.00000000e+00, 2.38045113e-01, ...,\n",
              "        5.00000000e-01, 1.40000000e-01, 0.00000000e+00],\n",
              "       ...,\n",
              "       [4.39420332e-01, 0.00000000e+00, 7.63909774e-02, ...,\n",
              "        5.00000000e-01, 5.00000000e-02, 0.00000000e+00],\n",
              "       [8.44034934e-01, 0.00000000e+00, 2.05563910e-01, ...,\n",
              "        5.00000000e-01, 6.00000000e-02, 1.10000000e-04],\n",
              "       [1.06907888e-01, 1.00000000e+00, 4.09774436e-01, ...,\n",
              "        0.00000000e+00, 2.80000000e-01, 0.00000000e+00]])"
            ]
          },
          "execution_count": 11,
          "metadata": {},
          "output_type": "execute_result"
        }
      ],
      "source": [
        "X"
      ]
    },
    {
      "cell_type": "code",
      "execution_count": null,
      "id": "a8a4df88-606e-4d9c-a4c1-9b081b316a32",
      "metadata": {
        "id": "a8a4df88-606e-4d9c-a4c1-9b081b316a32",
        "outputId": "23224058-713f-42e5-e9ff-f516c2432752"
      },
      "outputs": [
        {
          "data": {
            "text/plain": [
              "'\\nx and y are the dimensions of the grid to self-organizing map.\\ndimensions must not be too small because we want to get the outliers\\nin evidence. Therefore we need a bigger map to detect outliers easily.\\n\\ninput_len : len(columns of the X)\\n\\nsigma is the radius of the different neighborhoods in the grid.\\n'"
            ]
          },
          "execution_count": 12,
          "metadata": {},
          "output_type": "execute_result"
        }
      ],
      "source": [
        "\"\"\"\n",
        "x and y are the dimensions of the grid to self-organizing map.\n",
        "dimensions must not be too small because we want to get the outliers\n",
        "in evidence. Therefore we need a bigger map to detect outliers easily.\n",
        "\n",
        "input_len : len(columns of the X)\n",
        "\n",
        "sigma is the radius of the different neighborhoods in the grid.\n",
        "\"\"\""
      ]
    },
    {
      "cell_type": "markdown",
      "id": "eacbb76e-f78e-438e-8a3a-b783ac0e0ddc",
      "metadata": {
        "id": "eacbb76e-f78e-438e-8a3a-b783ac0e0ddc"
      },
      "source": [
        "# Train the SOM"
      ]
    },
    {
      "cell_type": "code",
      "execution_count": null,
      "id": "b73e462d-fc4a-41d5-8ff3-bc8c58d4b9b6",
      "metadata": {
        "id": "b73e462d-fc4a-41d5-8ff3-bc8c58d4b9b6"
      },
      "outputs": [],
      "source": [
        "from minisom import MiniSom"
      ]
    },
    {
      "cell_type": "code",
      "execution_count": null,
      "id": "cab6f4ff-3b87-4d1d-83c9-18a1bf9062c8",
      "metadata": {
        "id": "cab6f4ff-3b87-4d1d-83c9-18a1bf9062c8"
      },
      "outputs": [],
      "source": [
        "som = MiniSom(x = 10, y=10, input_len = 15, sigma = 1.0,learning_rate = 0.5)"
      ]
    },
    {
      "cell_type": "code",
      "execution_count": null,
      "id": "9eb69342-d874-4005-98c6-7e835a3c7e36",
      "metadata": {
        "id": "9eb69342-d874-4005-98c6-7e835a3c7e36"
      },
      "outputs": [],
      "source": [
        "som.random_weights_init(X)# to initialize the weights randomly.\n",
        "som.train_random(data = X , num_iteration = 100) # to train SOM."
      ]
    },
    {
      "cell_type": "code",
      "execution_count": null,
      "id": "12d9d56b-58eb-4e0d-aaee-489fefec55aa",
      "metadata": {
        "id": "12d9d56b-58eb-4e0d-aaee-489fefec55aa",
        "outputId": "c457e1d5-05bf-4a1b-d0d2-412661ec8c31"
      },
      "outputs": [
        {
          "data": {
            "text/plain": [
              "\"\\nbasically, if MID is higher, then the winning node will be far away from it's \\nneighbors. (Inside a neighborhood.) Therefore; higher the MID, the more the winning \\nnode is an outlier.\\n\\nwinning notes will be colored by different colors in such a way that the larger is \\nthe MID, the closer to white the color will be.\\n\""
            ]
          },
          "execution_count": 16,
          "metadata": {},
          "output_type": "execute_result"
        }
      ],
      "source": [
        "\"\"\"\n",
        "basically, if MID is higher, then the winning node will be far away from it's\n",
        "neighbors. (Inside a neighborhood.) Therefore; higher the MID, the more the winning\n",
        "node is an outlier.\n",
        "\n",
        "winning notes will be colored by different colors in such a way that the larger is\n",
        "the MID, the closer to white the color will be.\n",
        "\"\"\""
      ]
    },
    {
      "cell_type": "code",
      "execution_count": null,
      "id": "933cf365-c658-4555-84a9-c0b310e6e5f7",
      "metadata": {
        "id": "933cf365-c658-4555-84a9-c0b310e6e5f7",
        "outputId": "3a134446-8abe-4a99-ba03-cc93a050f2d3"
      },
      "outputs": [
        {
          "data": {
            "text/plain": [
              "'\\nwe actually identified the outlier(fraud) in below.\\n\\nto get the explicit list of the customers, we just need to the inverse mapping\\nof these winning nodes to see which customers are associated to this winning node.\\n\\nalso, we can add some markers to detect them in the map easily!\\n'"
            ]
          },
          "execution_count": 17,
          "metadata": {},
          "output_type": "execute_result"
        }
      ],
      "source": [
        "\"\"\"\n",
        "we actually identified the outlier(fraud) in below.\n",
        "\n",
        "to get the explicit list of the customers, we just need to the inverse mapping\n",
        "of these winning nodes to see which customers are associated to this winning node.\n",
        "\n",
        "also, we can add some markers to detect them in the map easily!\n",
        "\"\"\""
      ]
    },
    {
      "cell_type": "markdown",
      "id": "cd1a64cc-afc3-406d-a60c-26480ba8f6b8",
      "metadata": {
        "id": "cd1a64cc-afc3-406d-a60c-26480ba8f6b8"
      },
      "source": [
        "# Visualizing the results"
      ]
    },
    {
      "cell_type": "code",
      "execution_count": null,
      "id": "fff3b828-9f01-445a-b981-514bb715146e",
      "metadata": {
        "id": "fff3b828-9f01-445a-b981-514bb715146e"
      },
      "outputs": [],
      "source": [
        "from pylab import  pcolor, colorbar, plot, show"
      ]
    },
    {
      "cell_type": "code",
      "execution_count": null,
      "id": "ffa3c54d-29ac-4eaa-940e-b1ce99331834",
      "metadata": {
        "id": "ffa3c54d-29ac-4eaa-940e-b1ce99331834",
        "outputId": "e77ff623-fd52-4d08-ea7c-3b91a526bd22"
      },
      "outputs": [
        {
          "data": {
            "image/png": "[encoded data removed]",
            "text/plain": [
              "<Figure size 640x480 with 2 Axes>"
            ]
          },
          "metadata": {},
          "output_type": "display_data"
        }
      ],
      "source": [
        "pcolor(som.distance_map().T)  # all the different colors corresponding to the MID's.\n",
        "colorbar()                    # white colors are the outliers (frauds).\n",
        "markers = ['o', 's']          # red circles(r, o) : the customers who didn't get approval.\n",
        "colors  = ['r', 'g']          # green squares(g, s) : the customers who got approval.\n",
        "for i, j in enumerate(X):     # i : indexes, j : all the vectors of customers at i.\n",
        "    w = som.winner(j)         # winning node.\n",
        "    plot(w[0] + 0.5,          # we want to put the marker at the center of the square.\n",
        "         w[1] + 0.5,          # we want to put the marker at the center of the square.\n",
        "         markers[y[i]],\n",
        "         markeredgecolor = colors[y[i]],\n",
        "         markerfacecolor = 'None',\n",
        "         markersize = 10,\n",
        "         markeredgewidth = 2)\n",
        "show()"
      ]
    },
    {
      "cell_type": "markdown",
      "id": "500f7fd5-70a5-4ab4-888a-7109a3f38495",
      "metadata": {
        "id": "500f7fd5-70a5-4ab4-888a-7109a3f38495"
      },
      "source": [
        "# Finding the frauds"
      ]
    },
    {
      "cell_type": "code",
      "execution_count": null,
      "id": "4a228e0d-253f-4102-b072-4d1df4ad3bc6",
      "metadata": {
        "id": "4a228e0d-253f-4102-b072-4d1df4ad3bc6"
      },
      "outputs": [],
      "source": [
        "mappings = som.win_map(X)"
      ]
    },
    {
      "cell_type": "code",
      "execution_count": null,
      "id": "3c74e4ba-49ea-42fa-a3aa-ccdad522646f",
      "metadata": {
        "id": "3c74e4ba-49ea-42fa-a3aa-ccdad522646f"
      },
      "outputs": [],
      "source": [
        "frauds = np.array(mappings[(1,7)])"
      ]
    },
    {
      "cell_type": "code",
      "execution_count": null,
      "id": "b70a1166-6a70-44b4-a2b1-bea1539de457",
      "metadata": {
        "id": "b70a1166-6a70-44b4-a2b1-bea1539de457"
      },
      "outputs": [],
      "source": [
        "frauds = sc.inverse_transform(frauds)"
      ]
    },
    {
      "cell_type": "code",
      "execution_count": null,
      "id": "d8f60b49-3163-4253-9e99-712062778088",
      "metadata": {
        "id": "d8f60b49-3163-4253-9e99-712062778088",
        "outputId": "f5598a2a-8541-4fd6-8bd3-f88bd1421935"
      },
      "outputs": [
        {
          "data": {
            "text/plain": [
              "array([[15608595.],\n",
              "       [15761158.],\n",
              "       [15711742.],\n",
              "       [15666166.],\n",
              "       [15605872.],\n",
              "       [15665087.]])"
            ]
          },
          "execution_count": 23,
          "metadata": {},
          "output_type": "execute_result"
        }
      ],
      "source": [
        "frauds[:,0:1] # frauds id's"
      ]
    },
    {
      "cell_type": "code",
      "execution_count": null,
      "id": "977f61d9-1f75-4d31-a4c0-3b5481d19a49",
      "metadata": {
        "id": "977f61d9-1f75-4d31-a4c0-3b5481d19a49"
      },
      "outputs": [],
      "source": []
    }
  ],
  "metadata": {
    "kernelspec": {
      "display_name": "Python 3 (ipykernel)",
      "language": "python",
      "name": "python3"
    },
    "language_info": {
      "codemirror_mode": {
        "name": "ipython",
        "version": 3
      },
      "file_extension": ".py",
      "mimetype": "text/x-python",
      "name": "python",
      "nbconvert_exporter": "python",
      "pygments_lexer": "ipython3",
      "version": "3.11.7"
    },
    "colab": {
      "provenance": [],
      "include_colab_link": true
    }
  },
  "nbformat": 4,
  "nbformat_minor": 5
}