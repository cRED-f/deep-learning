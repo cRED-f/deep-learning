{
  "nbformat": 4,
  "nbformat_minor": 0,
  "metadata": {
    "colab": {
      "provenance": [],
      "toc_visible": true,
      "authorship_tag": "ABX9TyMHEJ/GxzdL7Ah+ZqZjoD8B",
      "include_colab_link": true
    },
    "kernelspec": {
      "name": "python3",
      "display_name": "Python 3"
    },
    "language_info": {
      "name": "python"
    }
  },
  "cells": [
    {
      "cell_type": "markdown",
      "metadata": {
        "id": "view-in-github",
        "colab_type": "text"
      },
      "source": [
        "<a href=\"https://colab.research.google.com/github/cRED-f/pytorch-deep-learning/blob/main/ml_and_neurons.ipynb\" target=\"_parent\"><img src=\"https://colab.research.google.com/assets/colab-badge.svg\" alt=\"Open In Colab\"/></a>"
      ]
    },
    {
      "cell_type": "markdown",
      "source": [
        "# Linear Regression\n",
        "\n",
        "- means the line of best fit\n",
        "- y^ = mx + b (or ax + b)"
      ],
      "metadata": {
        "id": "VezXBHoErdL_"
      }
    },
    {
      "cell_type": "code",
      "source": [
        "import torch as t\n",
        "import torch.nn as nn\n",
        "import numpy as np\n",
        "import pandas as pd\n",
        "import matplotlib.pyplot as plt"
      ],
      "metadata": {
        "id": "iV970sE2roeU"
      },
      "execution_count": 225,
      "outputs": []
    },
    {
      "cell_type": "code",
      "source": [
        "#gererate 30 data points\n",
        "N = 20\n",
        "\n",
        "#random data on the x-axis in (-5,+5)\n",
        "X=np.random.random(N) * 10 - 5\n",
        "\n",
        "# a line plus some noise\n",
        "Y= 0.5 * X - 1 + np.random.random(N)\n",
        "\n",
        "#this is the correct model to use with MSE loss"
      ],
      "metadata": {
        "id": "wivkQIQlv8QX"
      },
      "execution_count": 226,
      "outputs": []
    },
    {
      "cell_type": "code",
      "source": [
        "#plot the data\n",
        "plt.scatter(X,Y);"
      ],
      "metadata": {
        "colab": {
          "base_uri": "https://localhost:8080/",
          "height": 430
        },
        "id": "6ld3bnnowIL4",
        "outputId": "35385125-2db8-477f-f4d3-ee6914f8f7c8"
      },
      "execution_count": 227,
      "outputs": [
        {
          "output_type": "display_data",
          "data": {
            "text/plain": [
              "<Figure size 640x480 with 1 Axes>"
            ],
            "image/png": "[encoded data removed]"
          },
          "metadata": {}
        }
      ]
    },
    {
      "cell_type": "markdown",
      "source": [
        "## create the linear regression model"
      ],
      "metadata": {
        "id": "vpGZgYitxQ7h"
      }
    },
    {
      "cell_type": "code",
      "source": [
        "model = nn.Linear(1,1)"
      ],
      "metadata": {
        "id": "xNSGis-jx1RJ"
      },
      "execution_count": 228,
      "outputs": []
    },
    {
      "cell_type": "code",
      "source": [
        "#Loss and optimizer\n",
        "criterion = nn.MSELoss()\n",
        "optimizer = t.optim.SGD(model.parameters(),lr=0.1)"
      ],
      "metadata": {
        "id": "1he8rrsTx7CB"
      },
      "execution_count": 229,
      "outputs": []
    },
    {
      "cell_type": "code",
      "source": [],
      "metadata": {
        "id": "rTTX-J4XyQD6"
      },
      "execution_count": 229,
      "outputs": []
    },
    {
      "cell_type": "code",
      "source": [
        "# in ml we want our data to be of shape\n",
        "# (num_samples x number_dimension)\n",
        "X = X.reshape(N,1)\n",
        "Y= Y.reshape(N,1)\n",
        "\n",
        "# pytorch use Float32 by default whereas numpy use float64\n",
        "inputs = t.from_numpy(X.astype(np.float32))\n",
        "targets= t.from_numpy(Y.astype(np.float32))"
      ],
      "metadata": {
        "id": "eFjTMHVOyrWS"
      },
      "execution_count": 230,
      "outputs": []
    },
    {
      "cell_type": "code",
      "source": [
        "type(inputs)"
      ],
      "metadata": {
        "colab": {
          "base_uri": "https://localhost:8080/"
        },
        "id": "Z9H__WWtzSUT",
        "outputId": "76353f5f-8eb7-4ea3-c49e-c5133e79480a"
      },
      "execution_count": 231,
      "outputs": [
        {
          "output_type": "execute_result",
          "data": {
            "text/plain": [
              "torch.Tensor"
            ]
          },
          "metadata": {},
          "execution_count": 231
        }
      ]
    },
    {
      "cell_type": "markdown",
      "source": [
        "## Train the model"
      ],
      "metadata": {
        "id": "lkQivaidzVHM"
      }
    },
    {
      "cell_type": "code",
      "source": [
        "n_epoch = 30\n",
        "losses = []\n",
        "for i in range(n_epoch):\n",
        "  #zero parameter gradients\n",
        "  optimizer.zero_grad()\n",
        "\n",
        "  #forward pass\n",
        "  outputs = model(inputs)\n",
        "  loss = criterion(outputs , targets)\n",
        "\n",
        "  # keep the loss so we can plot it later\n",
        "  losses.append(loss.item())\n",
        "\n",
        "  #backward and optimize\n",
        "  loss.backward()\n",
        "  optimizer.step()\n",
        "\n",
        "  print(f'Epoch {i+1}/{n_epoch}, loss: {loss.item():.4f}')"
      ],
      "metadata": {
        "id": "ohlMLz7czbY0",
        "colab": {
          "base_uri": "https://localhost:8080/"
        },
        "outputId": "8f7f2556-89af-4385-fce7-177e64d17a38"
      },
      "execution_count": 232,
      "outputs": [
        {
          "output_type": "stream",
          "name": "stdout",
          "text": [
            "Epoch 1/30, loss: 2.3976\n",
            "Epoch 2/30, loss: 2.0852\n",
            "Epoch 3/30, loss: 1.8164\n",
            "Epoch 4/30, loss: 1.5847\n",
            "Epoch 5/30, loss: 1.3844\n",
            "Epoch 6/30, loss: 1.2112\n",
            "Epoch 7/30, loss: 1.0611\n",
            "Epoch 8/30, loss: 0.9310\n",
            "Epoch 9/30, loss: 0.8181\n",
            "Epoch 10/30, loss: 0.7202\n",
            "Epoch 11/30, loss: 0.6352\n",
            "Epoch 12/30, loss: 0.5613\n",
            "Epoch 13/30, loss: 0.4972\n",
            "Epoch 14/30, loss: 0.4415\n",
            "Epoch 15/30, loss: 0.3932\n",
            "Epoch 16/30, loss: 0.3511\n",
            "Epoch 17/30, loss: 0.3146\n",
            "Epoch 18/30, loss: 0.2829\n",
            "Epoch 19/30, loss: 0.2553\n",
            "Epoch 20/30, loss: 0.2314\n",
            "Epoch 21/30, loss: 0.2106\n",
            "Epoch 22/30, loss: 0.1925\n",
            "Epoch 23/30, loss: 0.1768\n",
            "Epoch 24/30, loss: 0.1632\n",
            "Epoch 25/30, loss: 0.1513\n",
            "Epoch 26/30, loss: 0.1410\n",
            "Epoch 27/30, loss: 0.1320\n",
            "Epoch 28/30, loss: 0.1243\n",
            "Epoch 29/30, loss: 0.1175\n",
            "Epoch 30/30, loss: 0.1116\n"
          ]
        }
      ]
    },
    {
      "cell_type": "code",
      "source": [
        "plt.plot(losses)"
      ],
      "metadata": {
        "colab": {
          "base_uri": "https://localhost:8080/",
          "height": 451
        },
        "id": "23k82RGk6uHG",
        "outputId": "2227a1e8-8d03-4dee-e9d4-7a4692fcfe82"
      },
      "execution_count": 233,
      "outputs": [
        {
          "output_type": "execute_result",
          "data": {
            "text/plain": [
              "[<matplotlib.lines.Line2D at 0x7dc70fc063b0>]"
            ]
          },
          "metadata": {},
          "execution_count": 233
        },
        {
          "output_type": "display_data",
          "data": {
            "text/plain": [
              "<Figure size 640x480 with 1 Axes>"
            ],
            "image/png": "[encoded data removed]"
          },
          "metadata": {}
        }
      ]
    },
    {
      "cell_type": "markdown",
      "source": [
        "## plot the graph"
      ],
      "metadata": {
        "id": "K2MOX-9g7Na1"
      }
    },
    {
      "cell_type": "code",
      "source": [
        "predicted = model(inputs).detach().numpy()\n",
        "plt.scatter(X,Y,label='Orginal data')\n",
        "plt.plot(X,predicted,label='Fitted line')\n",
        "plt.legend()\n",
        "plt.show()"
      ],
      "metadata": {
        "colab": {
          "base_uri": "https://localhost:8080/",
          "height": 430
        },
        "id": "2CGgUE8qG47r",
        "outputId": "921ca540-03b7-42fc-83f0-bc11f28f5bc4"
      },
      "execution_count": 234,
      "outputs": [
        {
          "output_type": "display_data",
          "data": {
            "text/plain": [
              "<Figure size 640x480 with 1 Axes>"
            ],
            "image/png": "[encoded data removed]"
          },
          "metadata": {}
        }
      ]
    },
    {
      "cell_type": "code",
      "source": [
        "# in order to test the efficiency of the model , synthetic data is usefull\n",
        "\n",
        "\n",
        "w= model.weight.data.numpy()\n",
        "b= model.bias.data.numpy()\n",
        "print(w,b)"
      ],
      "metadata": {
        "colab": {
          "base_uri": "https://localhost:8080/"
        },
        "id": "Lc4Pj_PiHmc6",
        "outputId": "819be980-c9a4-40ff-bc0e-a8e35339af0d"
      },
      "execution_count": 235,
      "outputs": [
        {
          "output_type": "stream",
          "name": "stdout",
          "text": [
            "[[0.44411045]] [-0.46973675]\n"
          ]
        }
      ]
    },
    {
      "cell_type": "markdown",
      "source": [
        "## Moores Law"
      ],
      "metadata": {
        "id": "elr-eMoCJ-4o"
      }
    },
    {
      "cell_type": "markdown",
      "source": [
        "##### Moore's law is the observation that the number of transistors in an integrated circuit (IC) doubles about every two years"
      ],
      "metadata": {
        "id": "oF5p30n_LL0y"
      }
    },
    {
      "cell_type": "code",
      "source": [
        "data = pd.read_csv('moore.csv',header=None).values\n",
        "X = data[:,0].reshape(-1,1) # make it a 2D array of size N x D where D = 1\n",
        "Y = data[:,1].reshape(-1,1)"
      ],
      "metadata": {
        "id": "V3cbZT0ZLRq6"
      },
      "execution_count": 236,
      "outputs": []
    },
    {
      "cell_type": "code",
      "source": [
        "plt.scatter(X,Y)"
      ],
      "metadata": {
        "colab": {
          "base_uri": "https://localhost:8080/",
          "height": 462
        },
        "id": "ubRO44DhOJYu",
        "outputId": "68f05c68-3db4-4249-9332-0ff154bc97e5"
      },
      "execution_count": 237,
      "outputs": [
        {
          "output_type": "execute_result",
          "data": {
            "text/plain": [
              "<matplotlib.collections.PathCollection at 0x7dc70fbfefb0>"
            ]
          },
          "metadata": {},
          "execution_count": 237
        },
        {
          "output_type": "display_data",
          "data": {
            "text/plain": [
              "<Figure size 640x480 with 1 Axes>"
            ],
            "image/png": "[encoded data removed]"
          },
          "metadata": {}
        }
      ]
    },
    {
      "cell_type": "markdown",
      "source": [
        "### since we want linear model\n"
      ],
      "metadata": {
        "id": "n-zQqbX9OpU8"
      }
    },
    {
      "cell_type": "code",
      "source": [
        "Y= np.log(Y)\n",
        "plt.scatter(X,Y);"
      ],
      "metadata": {
        "colab": {
          "base_uri": "https://localhost:8080/",
          "height": 430
        },
        "id": "TDkPP9_mPk3I",
        "outputId": "1d5ca224-5a1d-4644-9b59-1bc891c4487f"
      },
      "execution_count": 238,
      "outputs": [
        {
          "output_type": "display_data",
          "data": {
            "text/plain": [
              "<Figure size 640x480 with 1 Axes>"
            ],
            "image/png": "[encoded data removed]"
          },
          "metadata": {}
        }
      ]
    },
    {
      "cell_type": "markdown",
      "source": [
        "### scale and center both the x and y axes"
      ],
      "metadata": {
        "id": "ICkv3wBOPtyW"
      }
    },
    {
      "cell_type": "code",
      "source": [
        "mx = X.mean()\n",
        "sx = X.std()\n",
        "my = Y.mean()\n",
        "sy = Y.std()\n",
        "\n",
        "#normalize\n",
        "X = (X-mx)/sx\n",
        "Y = (Y-my)/sy"
      ],
      "metadata": {
        "id": "4NnYNJStQLON"
      },
      "execution_count": 239,
      "outputs": []
    },
    {
      "cell_type": "code",
      "source": [
        "plt.scatter(X,Y)"
      ],
      "metadata": {
        "colab": {
          "base_uri": "https://localhost:8080/",
          "height": 447
        },
        "id": "0IpXzM6ZQjNN",
        "outputId": "a1fcf9d0-fe06-479b-e59a-ed461c2b125b"
      },
      "execution_count": 240,
      "outputs": [
        {
          "output_type": "execute_result",
          "data": {
            "text/plain": [
              "<matplotlib.collections.PathCollection at 0x7dc70fb03490>"
            ]
          },
          "metadata": {},
          "execution_count": 240
        },
        {
          "output_type": "display_data",
          "data": {
            "text/plain": [
              "<Figure size 640x480 with 1 Axes>"
            ],
            "image/png": "[encoded data removed]"
          },
          "metadata": {}
        }
      ]
    },
    {
      "cell_type": "markdown",
      "source": [
        "### convert to float32"
      ],
      "metadata": {
        "id": "FBKn88u5QmB0"
      }
    },
    {
      "cell_type": "code",
      "source": [
        "X = X.astype(np.float32)\n",
        "Y = Y.astype(np.float32)"
      ],
      "metadata": {
        "id": "3MwW6C33Uc0L"
      },
      "execution_count": 241,
      "outputs": []
    },
    {
      "cell_type": "markdown",
      "source": [
        "### create linear regression model"
      ],
      "metadata": {
        "id": "cXk4Wf5XUmIS"
      }
    },
    {
      "cell_type": "code",
      "source": [
        "model = nn.Linear(1,1)"
      ],
      "metadata": {
        "id": "JkV0PUoJUrUy"
      },
      "execution_count": 242,
      "outputs": []
    },
    {
      "cell_type": "markdown",
      "source": [
        "### loss and optimizer"
      ],
      "metadata": {
        "id": "qP6C0nNdUwQp"
      }
    },
    {
      "cell_type": "code",
      "source": [
        "criterion = nn.MSELoss()\n",
        "optimizer = t.optim.SGD(model.parameters(),lr=0.1,momentum=0.7)"
      ],
      "metadata": {
        "id": "ac910eUlU8N5"
      },
      "execution_count": 243,
      "outputs": []
    },
    {
      "cell_type": "code",
      "source": [
        "inputs = t.from_numpy(X)\n",
        "targets = t.from_numpy(Y)"
      ],
      "metadata": {
        "id": "PyJYjfjdVWwo"
      },
      "execution_count": 244,
      "outputs": []
    },
    {
      "cell_type": "code",
      "source": [
        "type(inputs)"
      ],
      "metadata": {
        "colab": {
          "base_uri": "https://localhost:8080/"
        },
        "id": "BT7Zmb-4VfJO",
        "outputId": "36f63bcb-d54b-40d2-a64a-8696529c899b"
      },
      "execution_count": 245,
      "outputs": [
        {
          "output_type": "execute_result",
          "data": {
            "text/plain": [
              "torch.Tensor"
            ]
          },
          "metadata": {},
          "execution_count": 245
        }
      ]
    },
    {
      "cell_type": "markdown",
      "source": [
        "### train the model"
      ],
      "metadata": {
        "id": "bpfBqZo0Vg1k"
      }
    },
    {
      "cell_type": "code",
      "source": [
        "n_epoch = 100\n",
        "losses = []\n",
        "for i in range(n_epoch):\n",
        "  #zero parameter gradients\n",
        "  optimizer.zero_grad()\n",
        "\n",
        "  #forward pass\n",
        "  outputs = model(inputs)\n",
        "  loss = criterion(outputs , targets)\n",
        "\n",
        "  # keep the loss so we can plot it later\n",
        "  losses.append(loss.item())\n",
        "\n",
        "  #backward and optimize\n",
        "  loss.backward()\n",
        "  optimizer.step()\n",
        "\n",
        "  print(f'Epoch {i+1}/{n_epoch}, loss: {loss.item():.4f}')"
      ],
      "metadata": {
        "colab": {
          "base_uri": "https://localhost:8080/"
        },
        "id": "TKuZHgZmVw1T",
        "outputId": "9f1f0602-56d4-4c64-eff6-c2a2f0125606"
      },
      "execution_count": 246,
      "outputs": [
        {
          "output_type": "stream",
          "name": "stdout",
          "text": [
            "Epoch 1/100, loss: 0.9965\n",
            "Epoch 2/100, loss: 0.6516\n",
            "Epoch 3/100, loss: 0.2780\n",
            "Epoch 4/100, loss: 0.0731\n",
            "Epoch 5/100, loss: 0.0425\n",
            "Epoch 6/100, loss: 0.0894\n",
            "Epoch 7/100, loss: 0.1248\n",
            "Epoch 8/100, loss: 0.1185\n",
            "Epoch 9/100, loss: 0.0863\n",
            "Epoch 10/100, loss: 0.0554\n",
            "Epoch 11/100, loss: 0.0402\n",
            "Epoch 12/100, loss: 0.0393\n",
            "Epoch 13/100, loss: 0.0436\n",
            "Epoch 14/100, loss: 0.0462\n",
            "Epoch 15/100, loss: 0.0451\n",
            "Epoch 16/100, loss: 0.0422\n",
            "Epoch 17/100, loss: 0.0396\n",
            "Epoch 18/100, loss: 0.0386\n",
            "Epoch 19/100, loss: 0.0386\n",
            "Epoch 20/100, loss: 0.0390\n",
            "Epoch 21/100, loss: 0.0392\n",
            "Epoch 22/100, loss: 0.0390\n",
            "Epoch 23/100, loss: 0.0388\n",
            "Epoch 24/100, loss: 0.0386\n",
            "Epoch 25/100, loss: 0.0385\n",
            "Epoch 26/100, loss: 0.0385\n",
            "Epoch 27/100, loss: 0.0385\n",
            "Epoch 28/100, loss: 0.0385\n",
            "Epoch 29/100, loss: 0.0385\n",
            "Epoch 30/100, loss: 0.0385\n",
            "Epoch 31/100, loss: 0.0385\n",
            "Epoch 32/100, loss: 0.0385\n",
            "Epoch 33/100, loss: 0.0385\n",
            "Epoch 34/100, loss: 0.0385\n",
            "Epoch 35/100, loss: 0.0385\n",
            "Epoch 36/100, loss: 0.0385\n",
            "Epoch 37/100, loss: 0.0385\n",
            "Epoch 38/100, loss: 0.0385\n",
            "Epoch 39/100, loss: 0.0385\n",
            "Epoch 40/100, loss: 0.0385\n",
            "Epoch 41/100, loss: 0.0385\n",
            "Epoch 42/100, loss: 0.0385\n",
            "Epoch 43/100, loss: 0.0385\n",
            "Epoch 44/100, loss: 0.0385\n",
            "Epoch 45/100, loss: 0.0385\n",
            "Epoch 46/100, loss: 0.0385\n",
            "Epoch 47/100, loss: 0.0385\n",
            "Epoch 48/100, loss: 0.0385\n",
            "Epoch 49/100, loss: 0.0385\n",
            "Epoch 50/100, loss: 0.0385\n",
            "Epoch 51/100, loss: 0.0385\n",
            "Epoch 52/100, loss: 0.0385\n",
            "Epoch 53/100, loss: 0.0385\n",
            "Epoch 54/100, loss: 0.0385\n",
            "Epoch 55/100, loss: 0.0385\n",
            "Epoch 56/100, loss: 0.0385\n",
            "Epoch 57/100, loss: 0.0385\n",
            "Epoch 58/100, loss: 0.0385\n",
            "Epoch 59/100, loss: 0.0385\n",
            "Epoch 60/100, loss: 0.0385\n",
            "Epoch 61/100, loss: 0.0385\n",
            "Epoch 62/100, loss: 0.0385\n",
            "Epoch 63/100, loss: 0.0385\n",
            "Epoch 64/100, loss: 0.0385\n",
            "Epoch 65/100, loss: 0.0385\n",
            "Epoch 66/100, loss: 0.0385\n",
            "Epoch 67/100, loss: 0.0385\n",
            "Epoch 68/100, loss: 0.0385\n",
            "Epoch 69/100, loss: 0.0385\n",
            "Epoch 70/100, loss: 0.0385\n",
            "Epoch 71/100, loss: 0.0385\n",
            "Epoch 72/100, loss: 0.0385\n",
            "Epoch 73/100, loss: 0.0385\n",
            "Epoch 74/100, loss: 0.0385\n",
            "Epoch 75/100, loss: 0.0385\n",
            "Epoch 76/100, loss: 0.0385\n",
            "Epoch 77/100, loss: 0.0385\n",
            "Epoch 78/100, loss: 0.0385\n",
            "Epoch 79/100, loss: 0.0385\n",
            "Epoch 80/100, loss: 0.0385\n",
            "Epoch 81/100, loss: 0.0385\n",
            "Epoch 82/100, loss: 0.0385\n",
            "Epoch 83/100, loss: 0.0385\n",
            "Epoch 84/100, loss: 0.0385\n",
            "Epoch 85/100, loss: 0.0385\n",
            "Epoch 86/100, loss: 0.0385\n",
            "Epoch 87/100, loss: 0.0385\n",
            "Epoch 88/100, loss: 0.0385\n",
            "Epoch 89/100, loss: 0.0385\n",
            "Epoch 90/100, loss: 0.0385\n",
            "Epoch 91/100, loss: 0.0385\n",
            "Epoch 92/100, loss: 0.0385\n",
            "Epoch 93/100, loss: 0.0385\n",
            "Epoch 94/100, loss: 0.0385\n",
            "Epoch 95/100, loss: 0.0385\n",
            "Epoch 96/100, loss: 0.0385\n",
            "Epoch 97/100, loss: 0.0385\n",
            "Epoch 98/100, loss: 0.0385\n",
            "Epoch 99/100, loss: 0.0385\n",
            "Epoch 100/100, loss: 0.0385\n"
          ]
        }
      ]
    },
    {
      "cell_type": "code",
      "source": [
        "plt.plot(losses);"
      ],
      "metadata": {
        "colab": {
          "base_uri": "https://localhost:8080/",
          "height": 430
        },
        "id": "Ygk-ilhBVztY",
        "outputId": "799097e7-4a50-4484-f68e-1a057699756a"
      },
      "execution_count": 247,
      "outputs": [
        {
          "output_type": "display_data",
          "data": {
            "text/plain": [
              "<Figure size 640x480 with 1 Axes>"
            ],
            "image/png": "[encoded data removed]"
          },
          "metadata": {}
        }
      ]
    },
    {
      "cell_type": "markdown",
      "source": [
        "### plot the graph"
      ],
      "metadata": {
        "id": "-gxSzlIAV4DL"
      }
    },
    {
      "cell_type": "code",
      "source": [
        "predicted = model(t.from_numpy(X)).detach().numpy()\n",
        "plt.plot(X,Y,'ro',label='Orginal data')\n",
        "plt.plot(X,predicted,label='Fitted line')\n",
        "plt.legend()\n",
        "plt.show()"
      ],
      "metadata": {
        "colab": {
          "base_uri": "https://localhost:8080/",
          "height": 430
        },
        "id": "R-fH6ZRtWpNe",
        "outputId": "4063826e-e5f4-4a26-da40-d22e6310c8a4"
      },
      "execution_count": 248,
      "outputs": [
        {
          "output_type": "display_data",
          "data": {
            "text/plain": [
              "<Figure size 640x480 with 1 Axes>"
            ],
            "image/png": "[encoded data removed]"
          },
          "metadata": {}
        }
      ]
    },
    {
      "cell_type": "markdown",
      "source": [
        "### train weight of the model"
      ],
      "metadata": {
        "id": "olgDlPlFW3bM"
      }
    },
    {
      "cell_type": "code",
      "source": [
        "w = model.weight.data.numpy()\n",
        "print(w)"
      ],
      "metadata": {
        "colab": {
          "base_uri": "https://localhost:8080/"
        },
        "id": "nEcqlH5gXH97",
        "outputId": "ecc9d263-0fc9-4a0f-f143-3331635b4943"
      },
      "execution_count": 249,
      "outputs": [
        {
          "output_type": "stream",
          "name": "stdout",
          "text": [
            "[[0.9805711]]\n"
          ]
        }
      ]
    },
    {
      "cell_type": "markdown",
      "source": [
        "# Linear Classification\n",
        "\n",
        "\n",
        "\n",
        "1.   load in the data\n",
        "2.   create the model\n",
        "3.   train the model\n",
        "4.   evaluate the model\n"
      ],
      "metadata": {
        "id": "g0S0OjzLXNUy"
      }
    },
    {
      "cell_type": "markdown",
      "source": [
        "### load the data"
      ],
      "metadata": {
        "id": "s62Hh8HHDq4c"
      }
    },
    {
      "cell_type": "code",
      "source": [
        "\n",
        "from sklearn.datasets import load_breast_cancer\n",
        "\n",
        "\n",
        "data = load_breast_cancer()\n",
        "\n",
        "\n",
        "type(data)"
      ],
      "metadata": {
        "colab": {
          "base_uri": "https://localhost:8080/",
          "height": 187
        },
        "id": "gSsyub-7jjbv",
        "outputId": "5bca7766-f6e9-45ce-a7b4-78ddace12505"
      },
      "execution_count": 250,
      "outputs": [
        {
          "output_type": "execute_result",
          "data": {
            "text/plain": [
              "sklearn.utils._bunch.Bunch"
            ],
            "text/html": [
              "<div style=\"max-width:800px; border: 1px solid var(--colab-border-color);\"><style>\n",
              "      pre.function-repr-contents {\n",
              "        overflow-x: auto;\n",
              "        padding: 8px 12px;\n",
              "        max-height: 500px;\n",
              "      }\n",
              "\n",
              "      pre.function-repr-contents.function-repr-contents-collapsed {\n",
              "        cursor: pointer;\n",
              "        max-height: 100px;\n",
              "      }\n",
              "    </style>\n",
              "    <pre style=\"white-space: initial; background:\n",
              "         var(--colab-secondary-surface-color); padding: 8px 12px;\n",
              "         border-bottom: 1px solid var(--colab-border-color);\"><b>sklearn.utils._bunch.Bunch</b><br/>def __init__(**kwargs)</pre><pre class=\"function-repr-contents function-repr-contents-collapsed\" style=\"\"><a class=\"filepath\" style=\"display:none\" href=\"#\">/usr/local/lib/python3.10/dist-packages/sklearn/utils/_bunch.py</a>Container object exposing keys as attributes.\n",
              "\n",
              "Bunch objects are sometimes used as an output for functions and methods.\n",
              "They extend dictionaries by enabling values to be accessed by key,\n",
              "`bunch[&quot;value_key&quot;]`, or by an attribute, `bunch.value_key`.\n",
              "\n",
              "Examples\n",
              "--------\n",
              "&gt;&gt;&gt; from sklearn.utils import Bunch\n",
              "&gt;&gt;&gt; b = Bunch(a=1, b=2)\n",
              "&gt;&gt;&gt; b[&#x27;b&#x27;]\n",
              "2\n",
              "&gt;&gt;&gt; b.b\n",
              "2\n",
              "&gt;&gt;&gt; b.a = 3\n",
              "&gt;&gt;&gt; b[&#x27;a&#x27;]\n",
              "3\n",
              "&gt;&gt;&gt; b.c = 6\n",
              "&gt;&gt;&gt; b[&#x27;c&#x27;]\n",
              "6</pre>\n",
              "      <script>\n",
              "      if (google.colab.kernel.accessAllowed && google.colab.files && google.colab.files.view) {\n",
              "        for (const element of document.querySelectorAll('.filepath')) {\n",
              "          element.style.display = 'block'\n",
              "          element.onclick = (event) => {\n",
              "            event.preventDefault();\n",
              "            event.stopPropagation();\n",
              "            google.colab.files.view(element.textContent, 1);\n",
              "          };\n",
              "        }\n",
              "      }\n",
              "      for (const element of document.querySelectorAll('.function-repr-contents')) {\n",
              "        element.onclick = (event) => {\n",
              "          event.preventDefault();\n",
              "          event.stopPropagation();\n",
              "          element.classList.toggle('function-repr-contents-collapsed');\n",
              "        };\n",
              "      }\n",
              "      </script>\n",
              "      </div>"
            ]
          },
          "metadata": {},
          "execution_count": 250
        }
      ]
    },
    {
      "cell_type": "code",
      "source": [
        "data.keys()"
      ],
      "metadata": {
        "colab": {
          "base_uri": "https://localhost:8080/"
        },
        "id": "UR_phaHFlx7W",
        "outputId": "fb5fe673-a4e8-4fa9-ae69-b425a92575c6"
      },
      "execution_count": 251,
      "outputs": [
        {
          "output_type": "execute_result",
          "data": {
            "text/plain": [
              "dict_keys(['data', 'target', 'frame', 'target_names', 'DESCR', 'feature_names', 'filename', 'data_module'])"
            ]
          },
          "metadata": {},
          "execution_count": 251
        }
      ]
    },
    {
      "cell_type": "code",
      "source": [
        "data.data.shape #so it has 569 samples and 30 features"
      ],
      "metadata": {
        "colab": {
          "base_uri": "https://localhost:8080/"
        },
        "id": "G9iH7-mhl_fN",
        "outputId": "4881bd50-dee0-4454-bade-2a57413abe4a"
      },
      "execution_count": 252,
      "outputs": [
        {
          "output_type": "execute_result",
          "data": {
            "text/plain": [
              "(569, 30)"
            ]
          },
          "metadata": {},
          "execution_count": 252
        }
      ]
    },
    {
      "cell_type": "code",
      "source": [
        "data.target"
      ],
      "metadata": {
        "colab": {
          "base_uri": "https://localhost:8080/"
        },
        "id": "TQ07XjWkmGis",
        "outputId": "d9e9a1ee-67c5-4e43-ca22-3107628b3c26"
      },
      "execution_count": 253,
      "outputs": [
        {
          "output_type": "execute_result",
          "data": {
            "text/plain": [
              "array([0, 0, 0, 0, 0, 0, 0, 0, 0, 0, 0, 0, 0, 0, 0, 0, 0, 0, 0, 1, 1, 1,\n",
              "       0, 0, 0, 0, 0, 0, 0, 0, 0, 0, 0, 0, 0, 0, 0, 1, 0, 0, 0, 0, 0, 0,\n",
              "       0, 0, 1, 0, 1, 1, 1, 1, 1, 0, 0, 1, 0, 0, 1, 1, 1, 1, 0, 1, 0, 0,\n",
              "       1, 1, 1, 1, 0, 1, 0, 0, 1, 0, 1, 0, 0, 1, 1, 1, 0, 0, 1, 0, 0, 0,\n",
              "       1, 1, 1, 0, 1, 1, 0, 0, 1, 1, 1, 0, 0, 1, 1, 1, 1, 0, 1, 1, 0, 1,\n",
              "       1, 1, 1, 1, 1, 1, 1, 0, 0, 0, 1, 0, 0, 1, 1, 1, 0, 0, 1, 0, 1, 0,\n",
              "       0, 1, 0, 0, 1, 1, 0, 1, 1, 0, 1, 1, 1, 1, 0, 1, 1, 1, 1, 1, 1, 1,\n",
              "       1, 1, 0, 1, 1, 1, 1, 0, 0, 1, 0, 1, 1, 0, 0, 1, 1, 0, 0, 1, 1, 1,\n",
              "       1, 0, 1, 1, 0, 0, 0, 1, 0, 1, 0, 1, 1, 1, 0, 1, 1, 0, 0, 1, 0, 0,\n",
              "       0, 0, 1, 0, 0, 0, 1, 0, 1, 0, 1, 1, 0, 1, 0, 0, 0, 0, 1, 1, 0, 0,\n",
              "       1, 1, 1, 0, 1, 1, 1, 1, 1, 0, 0, 1, 1, 0, 1, 1, 0, 0, 1, 0, 1, 1,\n",
              "       1, 1, 0, 1, 1, 1, 1, 1, 0, 1, 0, 0, 0, 0, 0, 0, 0, 0, 0, 0, 0, 0,\n",
              "       0, 0, 1, 1, 1, 1, 1, 1, 0, 1, 0, 1, 1, 0, 1, 1, 0, 1, 0, 0, 1, 1,\n",
              "       1, 1, 1, 1, 1, 1, 1, 1, 1, 1, 1, 0, 1, 1, 0, 1, 0, 1, 1, 1, 1, 1,\n",
              "       1, 1, 1, 1, 1, 1, 1, 1, 1, 0, 1, 1, 1, 0, 1, 0, 1, 1, 1, 1, 0, 0,\n",
              "       0, 1, 1, 1, 1, 0, 1, 0, 1, 0, 1, 1, 1, 0, 1, 1, 1, 1, 1, 1, 1, 0,\n",
              "       0, 0, 1, 1, 1, 1, 1, 1, 1, 1, 1, 1, 1, 0, 0, 1, 0, 0, 0, 1, 0, 0,\n",
              "       1, 1, 1, 1, 1, 0, 1, 1, 1, 1, 1, 0, 1, 1, 1, 0, 1, 1, 0, 0, 1, 1,\n",
              "       1, 1, 1, 1, 0, 1, 1, 1, 1, 1, 1, 1, 0, 1, 1, 1, 1, 1, 0, 1, 1, 0,\n",
              "       1, 1, 1, 1, 1, 1, 1, 1, 1, 1, 1, 1, 0, 1, 0, 0, 1, 0, 1, 1, 1, 1,\n",
              "       1, 0, 1, 1, 0, 1, 0, 1, 1, 0, 1, 0, 1, 1, 1, 1, 1, 1, 1, 1, 0, 0,\n",
              "       1, 1, 1, 1, 1, 1, 0, 1, 1, 1, 1, 1, 1, 1, 1, 1, 1, 0, 1, 1, 1, 1,\n",
              "       1, 1, 1, 0, 1, 0, 1, 1, 0, 1, 1, 1, 1, 1, 0, 0, 1, 0, 1, 0, 1, 1,\n",
              "       1, 1, 1, 0, 1, 1, 0, 1, 0, 1, 0, 0, 1, 1, 1, 0, 1, 1, 1, 1, 1, 1,\n",
              "       1, 1, 1, 1, 1, 0, 1, 0, 0, 1, 1, 1, 1, 1, 1, 1, 1, 1, 1, 1, 1, 1,\n",
              "       1, 1, 1, 1, 1, 1, 1, 1, 1, 1, 1, 1, 0, 0, 0, 0, 0, 0, 1])"
            ]
          },
          "metadata": {},
          "execution_count": 253
        }
      ]
    },
    {
      "cell_type": "code",
      "source": [
        "data.target.shape #so the target == data same samples"
      ],
      "metadata": {
        "colab": {
          "base_uri": "https://localhost:8080/"
        },
        "id": "u9V0uo7RmPPL",
        "outputId": "dc580bb1-3663-4020-b257-1bbd01e6cd63"
      },
      "execution_count": 254,
      "outputs": [
        {
          "output_type": "execute_result",
          "data": {
            "text/plain": [
              "(569,)"
            ]
          },
          "metadata": {},
          "execution_count": 254
        }
      ]
    },
    {
      "cell_type": "code",
      "source": [
        "data.feature_names"
      ],
      "metadata": {
        "colab": {
          "base_uri": "https://localhost:8080/"
        },
        "id": "7nUE2s6umWei",
        "outputId": "18ecd8c7-5f32-49a1-c634-addeda1e2615"
      },
      "execution_count": 255,
      "outputs": [
        {
          "output_type": "execute_result",
          "data": {
            "text/plain": [
              "array(['mean radius', 'mean texture', 'mean perimeter', 'mean area',\n",
              "       'mean smoothness', 'mean compactness', 'mean concavity',\n",
              "       'mean concave points', 'mean symmetry', 'mean fractal dimension',\n",
              "       'radius error', 'texture error', 'perimeter error', 'area error',\n",
              "       'smoothness error', 'compactness error', 'concavity error',\n",
              "       'concave points error', 'symmetry error',\n",
              "       'fractal dimension error', 'worst radius', 'worst texture',\n",
              "       'worst perimeter', 'worst area', 'worst smoothness',\n",
              "       'worst compactness', 'worst concavity', 'worst concave points',\n",
              "       'worst symmetry', 'worst fractal dimension'], dtype='<U23')"
            ]
          },
          "metadata": {},
          "execution_count": 255
        }
      ]
    },
    {
      "cell_type": "code",
      "source": [
        "data.feature_names.shape"
      ],
      "metadata": {
        "colab": {
          "base_uri": "https://localhost:8080/"
        },
        "id": "R5OFG3l2ml6K",
        "outputId": "ca9b67ba-b3cf-4a67-88c0-6a995b8c6a17"
      },
      "execution_count": 256,
      "outputs": [
        {
          "output_type": "execute_result",
          "data": {
            "text/plain": [
              "(30,)"
            ]
          },
          "metadata": {},
          "execution_count": 256
        }
      ]
    },
    {
      "cell_type": "markdown",
      "source": [
        "### create the model"
      ],
      "metadata": {
        "id": "n_zT_RammpIR"
      }
    },
    {
      "cell_type": "code",
      "source": [
        "from sklearn.model_selection import train_test_split\n",
        "\n",
        "# split the data into train and test sets\n",
        "X_train, X_test, y_train, y_test = train_test_split(data.data,data.target,test_size=0.33)\n",
        "\n",
        "N , D = X_train.shape"
      ],
      "metadata": {
        "id": "ch75EN65m3GB"
      },
      "execution_count": 257,
      "outputs": []
    },
    {
      "cell_type": "markdown",
      "source": [
        "### scale the data"
      ],
      "metadata": {
        "id": "_tjFtaJTo-7y"
      }
    },
    {
      "cell_type": "code",
      "source": [
        "\n",
        "from sklearn.preprocessing import StandardScaler\n",
        "\n",
        "\n",
        "scaler = StandardScaler()\n",
        "X_train = scaler.fit_transform(X_train)\n",
        "X_test = scaler.fit_transform(X_test)\n"
      ],
      "metadata": {
        "id": "Y7KObs1ooIWC"
      },
      "execution_count": 258,
      "outputs": []
    },
    {
      "cell_type": "markdown",
      "source": [
        "### build the model with pytorch"
      ],
      "metadata": {
        "id": "JdnuqY2Ao51L"
      }
    },
    {
      "cell_type": "code",
      "source": [
        "model = nn.Sequential(\n",
        "    nn.Linear(D,1),\n",
        "    nn.Sigmoid()\n",
        ")"
      ],
      "metadata": {
        "id": "-ElKf9rhpURM"
      },
      "execution_count": 259,
      "outputs": []
    },
    {
      "cell_type": "markdown",
      "source": [
        "### loss and optimizer"
      ],
      "metadata": {
        "id": "vGq2QlxcpdTk"
      }
    },
    {
      "cell_type": "code",
      "source": [
        "criterion = nn.BCELoss()\n",
        "optimizer = t.optim.Adam(model.parameters())"
      ],
      "metadata": {
        "id": "fQyvExSDpkYj"
      },
      "execution_count": 260,
      "outputs": []
    },
    {
      "cell_type": "markdown",
      "source": [
        "### convert data into torch tensors"
      ],
      "metadata": {
        "id": "1e4MAscEpwRD"
      }
    },
    {
      "cell_type": "code",
      "source": [
        "X_train = t.from_numpy(X_train.astype(np.float32))\n",
        "X_test = t.from_numpy(X_test.astype(np.float32))\n",
        "y_train = t.from_numpy(y_train.astype(np.float32)).reshape(-1, 1)\n",
        "y_test = t.from_numpy(y_test.astype(np.float32)).reshape(-1, 1)"
      ],
      "metadata": {
        "id": "4C5FUHoeqWky"
      },
      "execution_count": 261,
      "outputs": []
    },
    {
      "cell_type": "markdown",
      "source": [
        "### train the model"
      ],
      "metadata": {
        "id": "JqhpgxDJHUhx"
      }
    },
    {
      "cell_type": "code",
      "source": [
        "\n",
        "\n",
        "n_epoch = 1000\n",
        "\n",
        "# stuff to store\n",
        "train_losses = np.zeros(n_epoch)\n",
        "test_losses = np.zeros(n_epoch)\n",
        "\n",
        "\n",
        "for i in range(n_epoch):\n",
        "  #zero parameter gradients\n",
        "  optimizer.zero_grad()\n",
        "\n",
        "  #forward pass\n",
        "  outputs = model(X_train)\n",
        "  loss = criterion(outputs , y_train)\n",
        "\n",
        "\n",
        "  #backward and optimize\n",
        "  loss.backward()\n",
        "  optimizer.step()\n",
        "\n",
        "  # get test loss\n",
        "  outputs_test = model(X_test)\n",
        "  loss_test = criterion(outputs_test , y_test)\n",
        "\n",
        "  # save losses\n",
        "  train_losses[i] = loss.item()\n",
        "  test_losses[i] = loss_test.item()\n",
        "\n",
        "\n",
        "  if (i + 1) % 50 == 0:\n",
        "    print(f'Epoch {i+1}/{n_epoch},train loss: {loss.item():.4f}, test loss: {loss_test.item()}')"
      ],
      "metadata": {
        "colab": {
          "base_uri": "https://localhost:8080/"
        },
        "id": "-0B2Er5UqxRw",
        "outputId": "78c9480c-7c72-4f59-e662-454ebe42dd46"
      },
      "execution_count": 262,
      "outputs": [
        {
          "output_type": "stream",
          "name": "stdout",
          "text": [
            "Epoch 50/1000,train loss: 0.3436, test loss: 0.34484416246414185\n",
            "Epoch 100/1000,train loss: 0.2664, test loss: 0.2640257775783539\n",
            "Epoch 150/1000,train loss: 0.2220, test loss: 0.21605367958545685\n",
            "Epoch 200/1000,train loss: 0.1932, test loss: 0.18497030436992645\n",
            "Epoch 250/1000,train loss: 0.1728, test loss: 0.16349439322948456\n",
            "Epoch 300/1000,train loss: 0.1576, test loss: 0.14788635075092316\n",
            "Epoch 350/1000,train loss: 0.1458, test loss: 0.13607850670814514\n",
            "Epoch 400/1000,train loss: 0.1363, test loss: 0.12685970962047577\n",
            "Epoch 450/1000,train loss: 0.1285, test loss: 0.11948228627443314\n",
            "Epoch 500/1000,train loss: 0.1220, test loss: 0.1134619414806366\n",
            "Epoch 550/1000,train loss: 0.1164, test loss: 0.10847130417823792\n",
            "Epoch 600/1000,train loss: 0.1116, test loss: 0.104280985891819\n",
            "Epoch 650/1000,train loss: 0.1075, test loss: 0.10072503983974457\n",
            "Epoch 700/1000,train loss: 0.1038, test loss: 0.09768034517765045\n",
            "Epoch 750/1000,train loss: 0.1005, test loss: 0.09505338966846466\n",
            "Epoch 800/1000,train loss: 0.0976, test loss: 0.09277188777923584\n",
            "Epoch 850/1000,train loss: 0.0950, test loss: 0.0907789021730423\n",
            "Epoch 900/1000,train loss: 0.0926, test loss: 0.08902905136346817\n",
            "Epoch 950/1000,train loss: 0.0905, test loss: 0.08748558908700943\n",
            "Epoch 1000/1000,train loss: 0.0885, test loss: 0.08611851185560226\n"
          ]
        }
      ]
    },
    {
      "cell_type": "markdown",
      "source": [
        "### plot the graph"
      ],
      "metadata": {
        "id": "0nCyeqRzsQ9H"
      }
    },
    {
      "cell_type": "code",
      "source": [
        "plt.plot(train_losses,label='Train loss')\n",
        "plt.plot(test_losses,label='Test loss')\n",
        "plt.legend()\n",
        "plt.show()"
      ],
      "metadata": {
        "colab": {
          "base_uri": "https://localhost:8080/",
          "height": 430
        },
        "id": "Vy7RsO4YtPhL",
        "outputId": "15a353c5-aeec-401d-e408-b941620ff198"
      },
      "execution_count": 263,
      "outputs": [
        {
          "output_type": "display_data",
          "data": {
            "text/plain": [
              "<Figure size 640x480 with 1 Axes>"
            ],
            "image/png": "[encoded data removed]"
          },
          "metadata": {}
        }
      ]
    },
    {
      "cell_type": "markdown",
      "source": [
        "### Accuracy of our model(evaluate the model)"
      ],
      "metadata": {
        "id": "41hsWUQsteZS"
      }
    },
    {
      "cell_type": "code",
      "source": [
        "with t.no_grad():\n",
        "  p_train = model(X_train)\n",
        "  p_train = np.round(p_train.numpy())\n",
        "  train_accuracy = np.mean(y_train.numpy() == p_train)\n",
        "\n",
        "  p_test = model(X_test)\n",
        "  p_test = np.round(p_test.numpy())\n",
        "  test_accuracy = np.mean(y_test.numpy() == p_test)\n",
        "print(f'Train acc: {train_accuracy:.4f}, Test acc: {test_accuracy:.4f}')"
      ],
      "metadata": {
        "colab": {
          "base_uri": "https://localhost:8080/"
        },
        "id": "su9lirgAt_ax",
        "outputId": "8b0ff942-151f-4582-cbfd-19572fa522d3"
      },
      "execution_count": 264,
      "outputs": [
        {
          "output_type": "stream",
          "name": "stdout",
          "text": [
            "Train acc: 0.9843, Test acc: 0.9574\n"
          ]
        }
      ]
    },
    {
      "cell_type": "markdown",
      "source": [
        "# Save the model\n",
        "\n"
      ],
      "metadata": {
        "id": "Bae3872Dwx5C"
      }
    },
    {
      "cell_type": "code",
      "source": [
        "model.state_dict()"
      ],
      "metadata": {
        "colab": {
          "base_uri": "https://localhost:8080/"
        },
        "id": "Zkk0Dmlvzbpi",
        "outputId": "1847a724-1757-4bf5-ada1-5eaa8fbb7f95"
      },
      "execution_count": 288,
      "outputs": [
        {
          "output_type": "execute_result",
          "data": {
            "text/plain": [
              "OrderedDict([('0.weight',\n",
              "              tensor([[-0.2373, -0.5054, -0.4242, -0.4427, -0.1698, -0.1568, -0.3396, -0.2964,\n",
              "                       -0.0669,  0.2752, -0.5623,  0.1873, -0.5350, -0.2581, -0.0710,  0.4093,\n",
              "                       -0.0941, -0.1291,  0.2627,  0.3223, -0.5084, -0.6575, -0.5244, -0.4159,\n",
              "                       -0.3374, -0.1732, -0.3968, -0.3100, -0.4168, -0.3478]])),\n",
              "             ('0.bias', tensor([0.5532]))])"
            ]
          },
          "metadata": {},
          "execution_count": 288
        }
      ]
    },
    {
      "cell_type": "code",
      "source": [
        "# save the model\n",
        "t.save(model.state_dict(), 'myModel.pt')"
      ],
      "metadata": {
        "id": "Ac-5FqV2zdlf"
      },
      "execution_count": 289,
      "outputs": []
    },
    {
      "cell_type": "code",
      "source": [
        "!ls"
      ],
      "metadata": {
        "colab": {
          "base_uri": "https://localhost:8080/"
        },
        "id": "vVwl2lZf0dOn",
        "outputId": "6190b02c-6154-41b3-aafd-b7e223cd7b9b"
      },
      "execution_count": 267,
      "outputs": [
        {
          "output_type": "stream",
          "name": "stdout",
          "text": [
            "moore.csv  myModel.pt  sample_data\n"
          ]
        }
      ]
    },
    {
      "cell_type": "code",
      "source": [
        "model3 = nn.Sequential(\n",
        "    nn.Linear(D,1),\n",
        "    nn.Sigmoid()\n",
        ")\n",
        "model3.load_state_dict(t.load('myModel.pt'))"
      ],
      "metadata": {
        "colab": {
          "base_uri": "https://localhost:8080/"
        },
        "id": "opurhi3W0jUX",
        "outputId": "78cd19af-4bd9-4917-ed95-6b5d503a3302"
      },
      "execution_count": 290,
      "outputs": [
        {
          "output_type": "execute_result",
          "data": {
            "text/plain": [
              "<All keys matched successfully>"
            ]
          },
          "metadata": {},
          "execution_count": 290
        }
      ]
    },
    {
      "cell_type": "code",
      "source": [
        "with t.no_grad():\n",
        "  p_train = model3(X_train)\n",
        "  p_train = np.round(p_train.numpy())\n",
        "  train_accuracy = np.mean(y_train.numpy() == p_train)\n",
        "\n",
        "  p_test = model3(X_test)\n",
        "  p_test = np.round(p_test.numpy())\n",
        "  test_accuracy = np.mean(y_test.numpy() == p_test)\n",
        "print(f'Train acc: {train_accuracy:.4f}, Test acc: {test_accuracy:.4f}')"
      ],
      "metadata": {
        "colab": {
          "base_uri": "https://localhost:8080/"
        },
        "id": "u-2LLpMP0255",
        "outputId": "d115fc8a-f240-48ed-8ded-5c2306d37e04"
      },
      "execution_count": 291,
      "outputs": [
        {
          "output_type": "stream",
          "name": "stdout",
          "text": [
            "Train acc: 0.9764, Test acc: 0.9894\n"
          ]
        }
      ]
    },
    {
      "cell_type": "markdown",
      "source": [
        "# download the model"
      ],
      "metadata": {
        "id": "o0s_32Jw1Duv"
      }
    },
    {
      "cell_type": "code",
      "source": [
        "from google.colab import files\n",
        "files.download('myModel.pt')"
      ],
      "metadata": {
        "colab": {
          "base_uri": "https://localhost:8080/",
          "height": 17
        },
        "id": "z4vvBFdk1KgZ",
        "outputId": "2c9726f5-e37a-43ad-943f-a29379d30713"
      },
      "execution_count": 270,
      "outputs": [
        {
          "output_type": "display_data",
          "data": {
            "text/plain": [
              "<IPython.core.display.Javascript object>"
            ],
            "application/javascript": [
              "\n",
              "    async function download(id, filename, size) {\n",
              "      if (!google.colab.kernel.accessAllowed) {\n",
              "        return;\n",
              "      }\n",
              "      const div = document.createElement('div');\n",
              "      const label = document.createElement('label');\n",
              "      label.textContent = `Downloading \"${filename}\": `;\n",
              "      div.appendChild(label);\n",
              "      const progress = document.createElement('progress');\n",
              "      progress.max = size;\n",
              "      div.appendChild(progress);\n",
              "      document.body.appendChild(div);\n",
              "\n",
              "      const buffers = [];\n",
              "      let downloaded = 0;\n",
              "\n",
              "      const channel = await google.colab.kernel.comms.open(id);\n",
              "      // Send a message to notify the kernel that we're ready.\n",
              "      channel.send({})\n",
              "\n",
              "      for await (const message of channel.messages) {\n",
              "        // Send a message to notify the kernel that we're ready.\n",
              "        channel.send({})\n",
              "        if (message.buffers) {\n",
              "          for (const buffer of message.buffers) {\n",
              "            buffers.push(buffer);\n",
              "            downloaded += buffer.byteLength;\n",
              "            progress.value = downloaded;\n",
              "          }\n",
              "        }\n",
              "      }\n",
              "      const blob = new Blob(buffers, {type: 'application/binary'});\n",
              "      const a = document.createElement('a');\n",
              "      a.href = window.URL.createObjectURL(blob);\n",
              "      a.download = filename;\n",
              "      div.appendChild(a);\n",
              "      a.click();\n",
              "      div.remove();\n",
              "    }\n",
              "  "
            ]
          },
          "metadata": {}
        },
        {
          "output_type": "display_data",
          "data": {
            "text/plain": [
              "<IPython.core.display.Javascript object>"
            ],
            "application/javascript": [
              "download(\"download_3981558f-e82c-482f-8975-d76d0fc48f72\", \"myModel.pt\", 1624)"
            ]
          },
          "metadata": {}
        }
      ]
    },
    {
      "cell_type": "markdown",
      "source": [
        "# Linear classification with Logits"
      ],
      "metadata": {
        "id": "Aa9HO7CW1T0C"
      }
    },
    {
      "cell_type": "markdown",
      "source": [
        "### load the data"
      ],
      "metadata": {
        "id": "_hPujPmoDlQj"
      }
    },
    {
      "cell_type": "code",
      "source": [
        "from sklearn.datasets import load_breast_cancer"
      ],
      "metadata": {
        "id": "O043lpXKDwzo"
      },
      "execution_count": 350,
      "outputs": []
    },
    {
      "cell_type": "markdown",
      "source": [
        "### create the model"
      ],
      "metadata": {
        "id": "6mIcaP7pD0HA"
      }
    },
    {
      "cell_type": "code",
      "source": [
        "from sklearn.model_selection import train_test_split\n",
        "\n",
        "# split the data into train and test sets\n",
        "X_train, X_test, y_train, y_test = train_test_split(data.data,data.target,test_size=0.2)\n",
        "\n",
        "N , D = X_train.shape"
      ],
      "metadata": {
        "id": "XpWKdOa1D3oQ"
      },
      "execution_count": 351,
      "outputs": []
    },
    {
      "cell_type": "markdown",
      "source": [
        "### scale the data"
      ],
      "metadata": {
        "id": "04QAud1ED698"
      }
    },
    {
      "cell_type": "code",
      "source": [
        "from sklearn.preprocessing import StandardScaler\n",
        "\n",
        "\n",
        "scaler = StandardScaler()\n",
        "X_train = scaler.fit_transform(X_train)\n",
        "X_test = scaler.fit_transform(X_test)\n"
      ],
      "metadata": {
        "id": "NnA8NqPMD-K7"
      },
      "execution_count": 352,
      "outputs": []
    },
    {
      "cell_type": "markdown",
      "source": [
        "### build the model with pytorch"
      ],
      "metadata": {
        "id": "Hmt9JpR3EC0k"
      }
    },
    {
      "cell_type": "code",
      "source": [
        "model4 = nn.Linear(D,1) # already include sigmoid this time so we no need to write sigmoid\n",
        "\n"
      ],
      "metadata": {
        "id": "B8Wmnf7QEGye"
      },
      "execution_count": 353,
      "outputs": []
    },
    {
      "cell_type": "markdown",
      "source": [
        "### Loss and Optimizer"
      ],
      "metadata": {
        "id": "m1QK4EQqDEQ_"
      }
    },
    {
      "cell_type": "code",
      "source": [
        "criterion = nn.BCEWithLogitsLoss()\n",
        "optimizer = t.optim.Adam(model4.parameters())"
      ],
      "metadata": {
        "id": "5G_ZBkMXDU8M"
      },
      "execution_count": 354,
      "outputs": []
    },
    {
      "cell_type": "markdown",
      "source": [
        "### convert the data into torch tensors"
      ],
      "metadata": {
        "id": "fBCG8uaPDcMr"
      }
    },
    {
      "cell_type": "code",
      "source": [
        "X_train = t.from_numpy(X_train.astype(np.float32))\n",
        "X_test = t.from_numpy(X_test.astype(np.float32))\n",
        "y_train = t.from_numpy(y_train.astype(np.float32)).reshape(-1, 1)\n",
        "y_test = t.from_numpy(y_test.astype(np.float32)).reshape(-1, 1)"
      ],
      "metadata": {
        "id": "eeB1oFECEQtM"
      },
      "execution_count": 355,
      "outputs": []
    },
    {
      "cell_type": "markdown",
      "source": [
        "### train the model"
      ],
      "metadata": {
        "id": "Xd2n5cd5HXoZ"
      }
    },
    {
      "cell_type": "code",
      "source": [
        "\n",
        "\n",
        "n_epoch = 1000\n",
        "\n",
        "# stuff to store\n",
        "train_losses = np.zeros(n_epoch)\n",
        "test_losses = np.zeros(n_epoch)\n",
        "\n",
        "\n",
        "for i in range(n_epoch):\n",
        "  #zero parameter gradients\n",
        "  optimizer.zero_grad()\n",
        "\n",
        "  #forward pass\n",
        "  outputs = model4(X_train)\n",
        "  loss = criterion(outputs , y_train)\n",
        "\n",
        "\n",
        "  #backward and optimize\n",
        "  loss.backward()\n",
        "  optimizer.step()\n",
        "\n",
        "  # get test loss\n",
        "  outputs_test = model4(X_test)\n",
        "  loss_test = criterion(outputs_test , y_test)\n",
        "\n",
        "  # save losses\n",
        "  train_losses[i] = loss.item()\n",
        "  test_losses[i] = loss_test.item()\n",
        "\n",
        "\n",
        "  if (i + 1) % 50 == 0:\n",
        "    print(f'Epoch {i+1}/{n_epoch},train loss: {loss.item():.4f}, test loss: {loss_test.item()}')"
      ],
      "metadata": {
        "colab": {
          "base_uri": "https://localhost:8080/"
        },
        "id": "_JjcKvPwHZZ6",
        "outputId": "3833ccfc-1c73-40af-c565-8778c8a3a9af"
      },
      "execution_count": 356,
      "outputs": [
        {
          "output_type": "stream",
          "name": "stdout",
          "text": [
            "Epoch 50/1000,train loss: 0.4676, test loss: 0.4982861876487732\n",
            "Epoch 100/1000,train loss: 0.3426, test loss: 0.373612642288208\n",
            "Epoch 150/1000,train loss: 0.2755, test loss: 0.3064015805721283\n",
            "Epoch 200/1000,train loss: 0.2339, test loss: 0.26439353823661804\n",
            "Epoch 250/1000,train loss: 0.2054, test loss: 0.23554933071136475\n",
            "Epoch 300/1000,train loss: 0.1846, test loss: 0.2144540697336197\n",
            "Epoch 350/1000,train loss: 0.1688, test loss: 0.19830498099327087\n",
            "Epoch 400/1000,train loss: 0.1563, test loss: 0.18551105260849\n",
            "Epoch 450/1000,train loss: 0.1461, test loss: 0.17510518431663513\n",
            "Epoch 500/1000,train loss: 0.1376, test loss: 0.1664658635854721\n",
            "Epoch 550/1000,train loss: 0.1304, test loss: 0.1591745913028717\n",
            "Epoch 600/1000,train loss: 0.1243, test loss: 0.15293854475021362\n",
            "Epoch 650/1000,train loss: 0.1189, test loss: 0.14754603803157806\n",
            "Epoch 700/1000,train loss: 0.1142, test loss: 0.14283999800682068\n",
            "Epoch 750/1000,train loss: 0.1101, test loss: 0.13870102167129517\n",
            "Epoch 800/1000,train loss: 0.1063, test loss: 0.13503655791282654\n",
            "Epoch 850/1000,train loss: 0.1030, test loss: 0.13177365064620972\n",
            "Epoch 900/1000,train loss: 0.0999, test loss: 0.12885387241840363\n",
            "Epoch 950/1000,train loss: 0.0971, test loss: 0.12622982263565063\n",
            "Epoch 1000/1000,train loss: 0.0946, test loss: 0.1238626018166542\n"
          ]
        }
      ]
    },
    {
      "cell_type": "markdown",
      "source": [
        "### plot the graph"
      ],
      "metadata": {
        "id": "YO897C83ERPg"
      }
    },
    {
      "cell_type": "code",
      "source": [
        "plt.plot(train_losses,label='Train loss')\n",
        "plt.plot(test_losses,label='Test loss')\n",
        "plt.legend()\n",
        "plt.show()"
      ],
      "metadata": {
        "colab": {
          "base_uri": "https://localhost:8080/",
          "height": 430
        },
        "id": "Dk132y_eEWLf",
        "outputId": "cfa2ca5a-8e7b-407f-9088-09b0ab3f7605"
      },
      "execution_count": 357,
      "outputs": [
        {
          "output_type": "display_data",
          "data": {
            "text/plain": [
              "<Figure size 640x480 with 1 Axes>"
            ],
            "image/png": "[encoded data removed]"
          },
          "metadata": {}
        }
      ]
    },
    {
      "cell_type": "markdown",
      "source": [
        "### Accuracy of our model(evaluate the model)"
      ],
      "metadata": {
        "id": "UULH1rSzEWkg"
      }
    },
    {
      "cell_type": "code",
      "source": [
        "with t.no_grad():\n",
        "  p_train = model4(X_train)\n",
        "  p_train = np.round(p_train.numpy()>0)\n",
        "  train_accuracy = np.mean(y_train.numpy() == p_train)\n",
        "\n",
        "  p_test = model4(X_test)\n",
        "  p_test = np.round(p_test.numpy()>0)\n",
        "  test_accuracy = np.mean(y_test.numpy() == p_test)\n",
        "print(f'Train acc: {train_accuracy:.4f}, Test acc: {test_accuracy:.4f}')"
      ],
      "metadata": {
        "colab": {
          "base_uri": "https://localhost:8080/"
        },
        "id": "P6el7rhnEqJ8",
        "outputId": "d0cb7942-371e-405c-aac6-12f3bef5a81e"
      },
      "execution_count": 358,
      "outputs": [
        {
          "output_type": "stream",
          "name": "stdout",
          "text": [
            "Train acc: 0.9890, Test acc: 0.9561\n"
          ]
        }
      ]
    }
  ]
}