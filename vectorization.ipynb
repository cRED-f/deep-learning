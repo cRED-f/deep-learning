{
  "nbformat": 4,
  "nbformat_minor": 0,
  "metadata": {
    "colab": {
      "provenance": [],
      "authorship_tag": "ABX9TyNiA5KkiNoeJ25pYYOuA4XM",
      "include_colab_link": true
    },
    "kernelspec": {
      "name": "python3",
      "display_name": "Python 3"
    },
    "language_info": {
      "name": "python"
    }
  },
  "cells": [
    {
      "cell_type": "markdown",
      "metadata": {
        "id": "view-in-github",
        "colab_type": "text"
      },
      "source": [
        "<a href=\"https://colab.research.google.com/github/cRED-f/deep-learning/blob/main/vectorization.ipynb\" target=\"_parent\"><img src=\"https://colab.research.google.com/assets/colab-badge.svg\" alt=\"Open In Colab\"/></a>"
      ]
    },
    {
      "cell_type": "code",
      "execution_count": 1,
      "metadata": {
        "id": "_URPm4vQG2X1"
      },
      "outputs": [],
      "source": [
        "import numpy as np"
      ]
    },
    {
      "cell_type": "code",
      "source": [
        "import time\n",
        "\n",
        "a = np.random.rand(1000000)\n",
        "b = np.random.rand(1000000)\n",
        "\n",
        "tic = time.time()\n",
        "\n",
        "c = np.dot(a,b)\n",
        "\n",
        "tac = time.time()\n",
        "\n",
        "print(c)\n",
        "print(\"Vectorized version:\" + str(1000*(tac-tic)) + \"ms\")\n",
        "\n",
        "\n",
        "c = 0\n",
        "tic = time.time()\n",
        "for i in range(1000000):\n",
        "  c += a[i]*b[i]\n",
        "\n",
        "tac = time.time()\n",
        "\n",
        "print(c)\n",
        "print(\"Non-vectorized version:\" + str(1000*(tac-tic)) + \"ms\")"
      ],
      "metadata": {
        "colab": {
          "base_uri": "https://localhost:8080/"
        },
        "id": "_abTP1QlHaqQ",
        "outputId": "ab0ca655-0929-48dc-9f8e-f8facf47f99c"
      },
      "execution_count": 4,
      "outputs": [
        {
          "output_type": "stream",
          "name": "stdout",
          "text": [
            "249908.91942078195\n",
            "Vectorized version:1.8734931945800781ms\n",
            "249908.91942077415\n",
            "Non-vectorized version:500.40555000305176ms\n"
          ]
        }
      ]
    },
    {
      "cell_type": "code",
      "source": [
        "a = np.random.randn(5,1)\n",
        "a"
      ],
      "metadata": {
        "colab": {
          "base_uri": "https://localhost:8080/"
        },
        "id": "0CWZeSLbIEqq",
        "outputId": "d2c37166-9529-4960-9c8e-913cb4958ac4"
      },
      "execution_count": 6,
      "outputs": [
        {
          "output_type": "execute_result",
          "data": {
            "text/plain": [
              "array([[ 1.07263621],\n",
              "       [-0.45320157],\n",
              "       [ 0.03056235],\n",
              "       [ 0.04815825],\n",
              "       [ 0.69327824]])"
            ]
          },
          "metadata": {},
          "execution_count": 6
        }
      ]
    },
    {
      "cell_type": "code",
      "source": [
        "a.T"
      ],
      "metadata": {
        "colab": {
          "base_uri": "https://localhost:8080/"
        },
        "id": "GHrfHgOTPiQ-",
        "outputId": "4b3c978e-93c5-4406-aa99-1c4fca1388fb"
      },
      "execution_count": 7,
      "outputs": [
        {
          "output_type": "execute_result",
          "data": {
            "text/plain": [
              "array([[ 1.07263621, -0.45320157,  0.03056235,  0.04815825,  0.69327824]])"
            ]
          },
          "metadata": {},
          "execution_count": 7
        }
      ]
    },
    {
      "cell_type": "code",
      "source": [
        "np.dot(a,a.T)"
      ],
      "metadata": {
        "colab": {
          "base_uri": "https://localhost:8080/"
        },
        "id": "p4EJZg2BPqci",
        "outputId": "050c1e19-a8ad-44c7-9a8c-5418575eb5bb"
      },
      "execution_count": 8,
      "outputs": [
        {
          "output_type": "execute_result",
          "data": {
            "text/plain": [
              "array([[ 1.15054845e+00, -4.86120417e-01,  3.27822871e-02,\n",
              "         5.16562814e-02,  7.43635350e-01],\n",
              "       [-4.86120417e-01,  2.05391664e-01, -1.38509066e-02,\n",
              "        -2.18253939e-02, -3.14194789e-01],\n",
              "       [ 3.27822871e-02, -1.38509066e-02,  9.34057450e-04,\n",
              "         1.47182942e-03,  2.11882147e-02],\n",
              "       [ 5.16562814e-02, -2.18253939e-02,  1.47182942e-03,\n",
              "         2.31921691e-03,  3.33870660e-02],\n",
              "       [ 7.43635350e-01, -3.14194789e-01,  2.11882147e-02,\n",
              "         3.33870660e-02,  4.80634722e-01]])"
            ]
          },
          "metadata": {},
          "execution_count": 8
        }
      ]
    },
    {
      "cell_type": "code",
      "source": [],
      "metadata": {
        "id": "AICZ40SlPwz-"
      },
      "execution_count": null,
      "outputs": []
    }
  ]
}