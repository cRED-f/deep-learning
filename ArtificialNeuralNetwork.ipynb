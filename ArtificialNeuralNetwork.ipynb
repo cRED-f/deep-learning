{
  "nbformat": 4,
  "nbformat_minor": 0,
  "metadata": {
    "colab": {
      "provenance": [],
      "authorship_tag": "ABX9TyMDr8mzrm1vrt4KPaa1leIK",
      "include_colab_link": true
    },
    "kernelspec": {
      "name": "python3",
      "display_name": "Python 3"
    },
    "language_info": {
      "name": "python"
    }
  },
  "cells": [
    {
      "cell_type": "markdown",
      "metadata": {
        "id": "view-in-github",
        "colab_type": "text"
      },
      "source": [
        "<a href=\"https://colab.research.google.com/github/cRED-f/deep-learning/blob/main/ArtificialNeuralNetwork.ipynb\" target=\"_parent\"><img src=\"https://colab.research.google.com/assets/colab-badge.svg\" alt=\"Open In Colab\"/></a>"
      ]
    },
    {
      "cell_type": "markdown",
      "source": [
        "# ANN"
      ],
      "metadata": {
        "id": "fUZ-Jw6Itm3G"
      }
    },
    {
      "cell_type": "markdown",
      "source": [
        "## import libraries"
      ],
      "metadata": {
        "id": "o9ToBhOtGFMw"
      }
    },
    {
      "cell_type": "code",
      "source": [
        "import pandas as pd\n",
        "import numpy as np\n",
        "import tensorflow as tf"
      ],
      "metadata": {
        "id": "TOb4DrC-GMz0"
      },
      "execution_count": 19,
      "outputs": []
    },
    {
      "cell_type": "markdown",
      "source": [
        "# Data Preprocessing"
      ],
      "metadata": {
        "id": "GZLqsJedwBhw"
      }
    },
    {
      "cell_type": "markdown",
      "source": [
        "## import the datasets"
      ],
      "metadata": {
        "id": "36wyyjExGvgf"
      }
    },
    {
      "cell_type": "code",
      "source": [
        "dataset = pd.read_csv('Churn_Modelling.csv')\n",
        "x = dataset.iloc[:, 3:-1].values\n",
        "y = dataset.iloc[:, -1].values"
      ],
      "metadata": {
        "id": "W1QuAvFHIKyB"
      },
      "execution_count": 20,
      "outputs": []
    },
    {
      "cell_type": "code",
      "source": [
        "print(x)"
      ],
      "metadata": {
        "colab": {
          "base_uri": "https://localhost:8080/"
        },
        "id": "9BjbC0xnINqc",
        "outputId": "218a988f-dcd1-40ec-e3c7-781024c54585"
      },
      "execution_count": 21,
      "outputs": [
        {
          "output_type": "stream",
          "name": "stdout",
          "text": [
            "[[619 'France' 'Female' ... 1 1 101348.88]\n",
            " [608 'Spain' 'Female' ... 0 1 112542.58]\n",
            " [502 'France' 'Female' ... 1 0 113931.57]\n",
            " ...\n",
            " [709 'France' 'Female' ... 0 1 42085.58]\n",
            " [772 'Germany' 'Male' ... 1 0 92888.52]\n",
            " [792 'France' 'Female' ... 1 0 38190.78]]\n"
          ]
        }
      ]
    },
    {
      "cell_type": "code",
      "source": [
        "print(y)"
      ],
      "metadata": {
        "colab": {
          "base_uri": "https://localhost:8080/"
        },
        "id": "jYIweV6YITH8",
        "outputId": "8ce9431d-7a72-4fe5-d18e-fca1d9ce2f05"
      },
      "execution_count": 22,
      "outputs": [
        {
          "output_type": "stream",
          "name": "stdout",
          "text": [
            "[1 0 1 ... 1 1 0]\n"
          ]
        }
      ]
    },
    {
      "cell_type": "markdown",
      "source": [
        "## encoding categorical data\n",
        "\n",
        "- since their is no missing data so we can skip 'taking care of missing data' part"
      ],
      "metadata": {
        "id": "YCvVlmBzwcT6"
      }
    },
    {
      "cell_type": "markdown",
      "source": [
        "### level encoding the 'Gender' column\n",
        "\n"
      ],
      "metadata": {
        "id": "8o8aQTLzJpoq"
      }
    },
    {
      "cell_type": "code",
      "source": [
        "from sklearn.preprocessing import LabelEncoder\n",
        "le = LabelEncoder()\n",
        "x[: , 2] = le.fit_transform(x[:,2])"
      ],
      "metadata": {
        "id": "FgdqJU7VMAGi"
      },
      "execution_count": 23,
      "outputs": []
    },
    {
      "cell_type": "code",
      "source": [
        "print(x)"
      ],
      "metadata": {
        "colab": {
          "base_uri": "https://localhost:8080/"
        },
        "id": "9UOkU5ZdMImR",
        "outputId": "2acfd139-b37f-49b8-9199-d6b5ab45c2cd"
      },
      "execution_count": 24,
      "outputs": [
        {
          "output_type": "stream",
          "name": "stdout",
          "text": [
            "[[619 'France' 0 ... 1 1 101348.88]\n",
            " [608 'Spain' 0 ... 0 1 112542.58]\n",
            " [502 'France' 0 ... 1 0 113931.57]\n",
            " ...\n",
            " [709 'France' 0 ... 0 1 42085.58]\n",
            " [772 'Germany' 1 ... 1 0 92888.52]\n",
            " [792 'France' 0 ... 1 0 38190.78]]\n"
          ]
        }
      ]
    },
    {
      "cell_type": "markdown",
      "source": [
        "### one hot encoding the 'Geography' column\n",
        "\n",
        "- since france , spain  , germany have no order relation between them it can not be level encoding\n",
        "- so we need to one Hot encoding"
      ],
      "metadata": {
        "id": "DKUKPzpdMZDw"
      }
    },
    {
      "cell_type": "code",
      "source": [
        "from sklearn.compose import ColumnTransformer\n",
        "from sklearn.preprocessing import OneHotEncoder\n",
        "ct = ColumnTransformer(transformers=[('encoder', OneHotEncoder(), [1])], remainder='passthrough')\n",
        "x = np.array(ct.fit_transform(x))"
      ],
      "metadata": {
        "id": "dp6SXZ-aOE_N"
      },
      "execution_count": 25,
      "outputs": []
    },
    {
      "cell_type": "code",
      "source": [
        "print(x)"
      ],
      "metadata": {
        "colab": {
          "base_uri": "https://localhost:8080/"
        },
        "id": "X9oGC8VgOOC5",
        "outputId": "f9fefc36-df07-42a5-a200-4f6ad1bbc7e4"
      },
      "execution_count": 26,
      "outputs": [
        {
          "output_type": "stream",
          "name": "stdout",
          "text": [
            "[[1.0 0.0 0.0 ... 1 1 101348.88]\n",
            " [0.0 0.0 1.0 ... 0 1 112542.58]\n",
            " [1.0 0.0 0.0 ... 1 0 113931.57]\n",
            " ...\n",
            " [1.0 0.0 0.0 ... 0 1 42085.58]\n",
            " [0.0 1.0 0.0 ... 1 0 92888.52]\n",
            " [1.0 0.0 0.0 ... 1 0 38190.78]]\n"
          ]
        }
      ]
    },
    {
      "cell_type": "markdown",
      "source": [
        "### Spliting the dataset into training set and test set"
      ],
      "metadata": {
        "id": "dy3MgGwmOQZq"
      }
    },
    {
      "cell_type": "code",
      "source": [
        "from sklearn.model_selection import train_test_split\n",
        "x_train, x_test, y_train, y_test = train_test_split(x, y, test_size = 0.2, random_state = 0)"
      ],
      "metadata": {
        "id": "k8_-d2vZOx17"
      },
      "execution_count": 27,
      "outputs": []
    },
    {
      "cell_type": "markdown",
      "source": [
        "### feature scaling"
      ],
      "metadata": {
        "id": "vUJtL_quO7AR"
      }
    },
    {
      "cell_type": "code",
      "source": [
        "from sklearn.preprocessing import StandardScaler\n",
        "sc = StandardScaler()\n",
        "x_train = sc.fit_transform(x_train)\n",
        "x_test = sc.transform(x_test)"
      ],
      "metadata": {
        "id": "4x5AjinYPEyF"
      },
      "execution_count": 31,
      "outputs": []
    },
    {
      "cell_type": "markdown",
      "source": [
        "# training the ANN"
      ],
      "metadata": {
        "id": "k8utPOeeTnlH"
      }
    },
    {
      "cell_type": "markdown",
      "source": [
        "## initializing the ANN"
      ],
      "metadata": {
        "id": "mDgG6ESEUGUx"
      }
    },
    {
      "cell_type": "code",
      "source": [
        "ann = tf.keras.models.Sequential()"
      ],
      "metadata": {
        "id": "hI7F7fSQU_DM"
      },
      "execution_count": 32,
      "outputs": []
    },
    {
      "cell_type": "markdown",
      "source": [
        "## Adding the input layer and the first hidden layer"
      ],
      "metadata": {
        "id": "-3THd_PNVDxO"
      }
    },
    {
      "cell_type": "code",
      "source": [
        "ann.add(tf.keras.layers.Dense(units=6, activation='relu'))"
      ],
      "metadata": {
        "id": "mefrDzUuW7M4"
      },
      "execution_count": 34,
      "outputs": []
    },
    {
      "cell_type": "markdown",
      "source": [
        "## adding the second hidden layer"
      ],
      "metadata": {
        "id": "PP6_1KvAW7ou"
      }
    },
    {
      "cell_type": "code",
      "source": [
        "ann.add(tf.keras.layers.Dense(units=6, activation='relu'))"
      ],
      "metadata": {
        "id": "WU-sxFYiW_8Q"
      },
      "execution_count": 35,
      "outputs": []
    },
    {
      "cell_type": "markdown",
      "source": [
        "## adding the output layer"
      ],
      "metadata": {
        "id": "oYOxlfWMXMrr"
      }
    },
    {
      "cell_type": "code",
      "source": [
        "## if this is categorical problem then we should use softmax instead of sigmoid\n",
        "ann.add(tf.keras.layers.Dense(units=1, activation='sigmoid'))"
      ],
      "metadata": {
        "id": "kjDcgGmFXQ-8"
      },
      "execution_count": 39,
      "outputs": []
    },
    {
      "cell_type": "markdown",
      "source": [
        "# Training the ANN"
      ],
      "metadata": {
        "id": "VyZAHPGAYCva"
      }
    },
    {
      "cell_type": "markdown",
      "source": [
        "## compiling the ANN"
      ],
      "metadata": {
        "id": "A5KLON7ma1Oy"
      }
    },
    {
      "cell_type": "code",
      "source": [
        "ann.compile(optimizer = 'adam' ,loss = 'binary_crossentropy' , metrics = ['accuracy'])\n",
        "\n",
        "# if this is categorical problem then we will use categorical_crossentropy"
      ],
      "metadata": {
        "id": "6QY40UAiaVSL"
      },
      "execution_count": 40,
      "outputs": []
    },
    {
      "cell_type": "markdown",
      "source": [
        "## Training the ANN on the taining set"
      ],
      "metadata": {
        "id": "IXJmB_ZqYN5V"
      }
    },
    {
      "cell_type": "code",
      "source": [
        "ann.fit(x_train,y_train, batch_size=32 ,epochs = 50)"
      ],
      "metadata": {
        "colab": {
          "base_uri": "https://localhost:8080/"
        },
        "id": "oN1cQNVBYRIj",
        "outputId": "b07bdf2f-d1b5-4dea-a28d-11c7c561cacc"
      },
      "execution_count": 54,
      "outputs": [
        {
          "output_type": "stream",
          "name": "stdout",
          "text": [
            "Epoch 1/50\n",
            "250/250 [==============================] - 2s 6ms/step - loss: 0.3602 - accuracy: 0.8547\n",
            "Epoch 2/50\n",
            "250/250 [==============================] - 1s 3ms/step - loss: 0.3595 - accuracy: 0.8558\n",
            "Epoch 3/50\n",
            "250/250 [==============================] - 1s 3ms/step - loss: 0.3585 - accuracy: 0.8554\n",
            "Epoch 4/50\n",
            "250/250 [==============================] - 0s 2ms/step - loss: 0.3569 - accuracy: 0.8564\n",
            "Epoch 5/50\n",
            "250/250 [==============================] - 0s 2ms/step - loss: 0.3566 - accuracy: 0.8591\n",
            "Epoch 6/50\n",
            "250/250 [==============================] - 0s 2ms/step - loss: 0.3554 - accuracy: 0.8570\n",
            "Epoch 7/50\n",
            "250/250 [==============================] - 0s 2ms/step - loss: 0.3551 - accuracy: 0.8575\n",
            "Epoch 8/50\n",
            "250/250 [==============================] - 1s 2ms/step - loss: 0.3539 - accuracy: 0.8593\n",
            "Epoch 9/50\n",
            "250/250 [==============================] - 0s 2ms/step - loss: 0.3527 - accuracy: 0.8593\n",
            "Epoch 10/50\n",
            "250/250 [==============================] - 0s 2ms/step - loss: 0.3529 - accuracy: 0.8622\n",
            "Epoch 11/50\n",
            "250/250 [==============================] - 0s 2ms/step - loss: 0.3511 - accuracy: 0.8620\n",
            "Epoch 12/50\n",
            "250/250 [==============================] - 0s 2ms/step - loss: 0.3508 - accuracy: 0.8616\n",
            "Epoch 13/50\n",
            "250/250 [==============================] - 0s 2ms/step - loss: 0.3500 - accuracy: 0.8626\n",
            "Epoch 14/50\n",
            "250/250 [==============================] - 0s 2ms/step - loss: 0.3486 - accuracy: 0.8650\n",
            "Epoch 15/50\n",
            "250/250 [==============================] - 0s 2ms/step - loss: 0.3489 - accuracy: 0.8618\n",
            "Epoch 16/50\n",
            "250/250 [==============================] - 0s 2ms/step - loss: 0.3480 - accuracy: 0.8625\n",
            "Epoch 17/50\n",
            "250/250 [==============================] - 0s 2ms/step - loss: 0.3477 - accuracy: 0.8631\n",
            "Epoch 18/50\n",
            "250/250 [==============================] - 0s 2ms/step - loss: 0.3479 - accuracy: 0.8635\n",
            "Epoch 19/50\n",
            "250/250 [==============================] - 0s 2ms/step - loss: 0.3470 - accuracy: 0.8646\n",
            "Epoch 20/50\n",
            "250/250 [==============================] - 0s 2ms/step - loss: 0.3465 - accuracy: 0.8639\n",
            "Epoch 21/50\n",
            "250/250 [==============================] - 0s 2ms/step - loss: 0.3455 - accuracy: 0.8651\n",
            "Epoch 22/50\n",
            "250/250 [==============================] - 0s 2ms/step - loss: 0.3453 - accuracy: 0.8655\n",
            "Epoch 23/50\n",
            "250/250 [==============================] - 0s 2ms/step - loss: 0.3446 - accuracy: 0.8656\n",
            "Epoch 24/50\n",
            "250/250 [==============================] - 0s 2ms/step - loss: 0.3450 - accuracy: 0.8650\n",
            "Epoch 25/50\n",
            "250/250 [==============================] - 1s 2ms/step - loss: 0.3455 - accuracy: 0.8644\n",
            "Epoch 26/50\n",
            "250/250 [==============================] - 1s 3ms/step - loss: 0.3440 - accuracy: 0.8665\n",
            "Epoch 27/50\n",
            "250/250 [==============================] - 1s 3ms/step - loss: 0.3439 - accuracy: 0.8648\n",
            "Epoch 28/50\n",
            "250/250 [==============================] - 1s 3ms/step - loss: 0.3435 - accuracy: 0.8655\n",
            "Epoch 29/50\n",
            "250/250 [==============================] - 1s 3ms/step - loss: 0.3438 - accuracy: 0.8660\n",
            "Epoch 30/50\n",
            "250/250 [==============================] - 1s 3ms/step - loss: 0.3442 - accuracy: 0.8650\n",
            "Epoch 31/50\n",
            "250/250 [==============================] - 0s 2ms/step - loss: 0.3426 - accuracy: 0.8637\n",
            "Epoch 32/50\n",
            "250/250 [==============================] - 0s 2ms/step - loss: 0.3433 - accuracy: 0.8662\n",
            "Epoch 33/50\n",
            "250/250 [==============================] - 0s 2ms/step - loss: 0.3433 - accuracy: 0.8641\n",
            "Epoch 34/50\n",
            "250/250 [==============================] - 0s 2ms/step - loss: 0.3419 - accuracy: 0.8641\n",
            "Epoch 35/50\n",
            "250/250 [==============================] - 0s 2ms/step - loss: 0.3433 - accuracy: 0.8646\n",
            "Epoch 36/50\n",
            "250/250 [==============================] - 0s 2ms/step - loss: 0.3415 - accuracy: 0.8655\n",
            "Epoch 37/50\n",
            "250/250 [==============================] - 0s 2ms/step - loss: 0.3427 - accuracy: 0.8649\n",
            "Epoch 38/50\n",
            "250/250 [==============================] - 1s 2ms/step - loss: 0.3420 - accuracy: 0.8650\n",
            "Epoch 39/50\n",
            "250/250 [==============================] - 0s 2ms/step - loss: 0.3421 - accuracy: 0.8660\n",
            "Epoch 40/50\n",
            "250/250 [==============================] - 0s 2ms/step - loss: 0.3420 - accuracy: 0.8658\n",
            "Epoch 41/50\n",
            "250/250 [==============================] - 0s 2ms/step - loss: 0.3412 - accuracy: 0.8664\n",
            "Epoch 42/50\n",
            "250/250 [==============================] - 1s 2ms/step - loss: 0.3422 - accuracy: 0.8646\n",
            "Epoch 43/50\n",
            "250/250 [==============================] - 0s 2ms/step - loss: 0.3412 - accuracy: 0.8660\n",
            "Epoch 44/50\n",
            "250/250 [==============================] - 0s 2ms/step - loss: 0.3413 - accuracy: 0.8650\n",
            "Epoch 45/50\n",
            "250/250 [==============================] - 0s 2ms/step - loss: 0.3414 - accuracy: 0.8648\n",
            "Epoch 46/50\n",
            "250/250 [==============================] - 0s 2ms/step - loss: 0.3412 - accuracy: 0.8649\n",
            "Epoch 47/50\n",
            "250/250 [==============================] - 0s 2ms/step - loss: 0.3410 - accuracy: 0.8668\n",
            "Epoch 48/50\n",
            "250/250 [==============================] - 0s 2ms/step - loss: 0.3407 - accuracy: 0.8665\n",
            "Epoch 49/50\n",
            "250/250 [==============================] - 0s 2ms/step - loss: 0.3405 - accuracy: 0.8664\n",
            "Epoch 50/50\n",
            "250/250 [==============================] - 0s 2ms/step - loss: 0.3411 - accuracy: 0.8649\n"
          ]
        },
        {
          "output_type": "execute_result",
          "data": {
            "text/plain": [
              "<keras.src.callbacks.History at 0x7f35c01f6020>"
            ]
          },
          "metadata": {},
          "execution_count": 54
        }
      ]
    },
    {
      "cell_type": "markdown",
      "source": [
        "# making the predictions and evaluating the model"
      ],
      "metadata": {
        "id": "7sYgW6IYbdP4"
      }
    },
    {
      "cell_type": "markdown",
      "source": [
        "## predicting the result of a single observation\n",
        "\n"
      ],
      "metadata": {
        "id": "zNe4TNQ4bjjC"
      }
    },
    {
      "cell_type": "markdown",
      "source": [
        "```\n",
        "Predict if the customer with the following information will leave the bank:\n",
        "    Geography           : France = [1, 0, 0] <-- corresponds to\n",
        "    Credit Score        : 600\n",
        "    Gender              : Male   = [1]    <-- corresponds to\n",
        "    Age                 : 40\n",
        "    Tenure              : 3\n",
        "    Balance             : 60000\n",
        "    Number of Products  : 2\n",
        "    Has Credit Card     : Yes    = [1]    <-- corresponds to\n",
        "    Is Active Member    : Yes    = [1]    <-- corresponds to\n",
        "    Estimated Salary    : 50000\n",
        "    so should we say goodbye to the customer?\n",
        "```"
      ],
      "metadata": {
        "id": "gJTNtpznb0ak"
      }
    },
    {
      "cell_type": "code",
      "source": [
        "print(ann.predict(sc.transform([[1,0,0,600,1,40,3,60000,2,1,1,50000]]))>0.5)"
      ],
      "metadata": {
        "colab": {
          "base_uri": "https://localhost:8080/"
        },
        "id": "xKgImSh0cib-",
        "outputId": "02f7ccf2-912a-450b-b979-68c215d98f55"
      },
      "execution_count": 55,
      "outputs": [
        {
          "output_type": "stream",
          "name": "stdout",
          "text": [
            "1/1 [==============================] - 0s 19ms/step\n",
            "[[ True]]\n"
          ]
        }
      ]
    },
    {
      "cell_type": "markdown",
      "source": [
        "# predicting the Test set results"
      ],
      "metadata": {
        "id": "EqVIiFdNgCut"
      }
    },
    {
      "cell_type": "code",
      "source": [
        "y_pred = ann.predict(x_test)\n",
        "y_pred = (y_pred>0.5)\n",
        "print(np.concatenate((y_pred.reshape(len(y_pred),1), y_test.reshape(len(y_test),1)),1))"
      ],
      "metadata": {
        "colab": {
          "base_uri": "https://localhost:8080/"
        },
        "id": "do2-TV7NgPdu",
        "outputId": "bdca4662-83ce-40b1-cbef-6b58e1a30aa4"
      },
      "execution_count": 56,
      "outputs": [
        {
          "output_type": "stream",
          "name": "stdout",
          "text": [
            "63/63 [==============================] - 0s 2ms/step\n",
            "[[1 0]\n",
            " [1 1]\n",
            " [1 0]\n",
            " ...\n",
            " [1 0]\n",
            " [1 0]\n",
            " [1 0]]\n"
          ]
        }
      ]
    },
    {
      "cell_type": "markdown",
      "source": [
        "# Confusion Matrix"
      ],
      "metadata": {
        "id": "44I4kk-sgXV0"
      }
    },
    {
      "cell_type": "markdown",
      "source": [
        "## Making the confusion matrix"
      ],
      "metadata": {
        "id": "kEWLxfangiyw"
      }
    },
    {
      "cell_type": "code",
      "source": [
        "from sklearn.metrics import confusion_matrix, accuracy_score\n",
        "cm = confusion_matrix(y_test, y_pred)\n",
        "print(cm)\n",
        "accuracy_score(y_test, y_pred)"
      ],
      "metadata": {
        "colab": {
          "base_uri": "https://localhost:8080/"
        },
        "id": "aIxiNVlngmY6",
        "outputId": "4999cdc3-5afa-481d-95c9-399b501d0b9f"
      },
      "execution_count": 57,
      "outputs": [
        {
          "output_type": "stream",
          "name": "stdout",
          "text": [
            "[[   2 1593]\n",
            " [   0  405]]\n"
          ]
        },
        {
          "output_type": "execute_result",
          "data": {
            "text/plain": [
              "0.2035"
            ]
          },
          "metadata": {},
          "execution_count": 57
        }
      ]
    }
  ]
}