{
  "nbformat": 4,
  "nbformat_minor": 0,
  "metadata": {
    "colab": {
      "provenance": [],
      "authorship_tag": "ABX9TyOzRxRMyJkUSdl1h5uxrpga",
      "include_colab_link": true
    },
    "kernelspec": {
      "name": "python3",
      "display_name": "Python 3"
    },
    "language_info": {
      "name": "python"
    }
  },
  "cells": [
    {
      "cell_type": "markdown",
      "metadata": {
        "id": "view-in-github",
        "colab_type": "text"
      },
      "source": [
        "<a href=\"https://colab.research.google.com/github/cRED-f/deep-learning/blob/main/ConvulationalNeuralNetwork.ipynb\" target=\"_parent\"><img src=\"https://colab.research.google.com/assets/colab-badge.svg\" alt=\"Open In Colab\"/></a>"
      ]
    },
    {
      "cell_type": "markdown",
      "source": [
        "# import the libraries"
      ],
      "metadata": {
        "id": "sidFnAJyg0zG"
      }
    },
    {
      "cell_type": "code",
      "source": [
        "import tensorflow as tf\n",
        "from tensorflow.keras.preprocessing.image import ImageDataGenerator"
      ],
      "metadata": {
        "id": "N-SHDOlkiuac"
      },
      "execution_count": 1,
      "outputs": []
    },
    {
      "cell_type": "code",
      "source": [
        "tf.__version__"
      ],
      "metadata": {
        "colab": {
          "base_uri": "https://localhost:8080/",
          "height": 36
        },
        "id": "IiZPEe0Ri6fG",
        "outputId": "c8f13a91-fd24-49f5-8a1a-7e53488c8c6b"
      },
      "execution_count": 2,
      "outputs": [
        {
          "output_type": "execute_result",
          "data": {
            "text/plain": [
              "'2.15.0'"
            ],
            "application/vnd.google.colaboratory.intrinsic+json": {
              "type": "string"
            }
          },
          "metadata": {},
          "execution_count": 2
        }
      ]
    },
    {
      "cell_type": "markdown",
      "source": [
        "# Data Preprocessing\n",
        "\n",
        "- we perform transformation so that overcome overfitting in training set\n",
        "\n",
        "- ***Transformation:geometrical transformation ->shift some of the pixel and then rotate the images-> zoom in/out,Horizontal flips (which call as a whole image augmentation)::***"
      ],
      "metadata": {
        "id": "MWR-engMi9Oc"
      }
    },
    {
      "cell_type": "markdown",
      "source": [
        "## preprocessing the training set\n",
        "\n",
        "\n",
        "\n"
      ],
      "metadata": {
        "id": "AhM65J6JjEqW"
      }
    },
    {
      "cell_type": "code",
      "source": [
        "# transformation:\n",
        "train_datagen = ImageDataGenerator(rescale = 1./255,\n",
        "                                   shear_range = 0.2,\n",
        "                                   zoom_range = 0.2,\n",
        "                                   horizontal_flip = True)\n",
        "# rescale is feature scaling which we learn in ANN it will apply each one of\n",
        "# the pixel by dividing by 255\n",
        "\n",
        "\n",
        "training_set = train_datagen.flow_from_directory('dataset/training_set',\n",
        "                                                 target_size = (64, 64),\n",
        "                                                 batch_size = 32,\n",
        "                                                 class_mode = 'binary')"
      ],
      "metadata": {
        "id": "BQUtUhFZjI6p"
      },
      "execution_count": 3,
      "outputs": []
    },
    {
      "cell_type": "markdown",
      "source": [
        "## preprocessing the test set"
      ],
      "metadata": {
        "id": "xXXoWxgljLli"
      }
    },
    {
      "cell_type": "code",
      "source": [
        "test_datagen = ImageDataGenerator(rescale = 1./255)\n",
        "test_set = test_datagen.flow_from_directory('dataset/test_set',\n",
        "                                            target_size = (64, 64),\n",
        "                                            batch_size = 32,\n",
        "                                            class_mode = 'binary')"
      ],
      "metadata": {
        "id": "3LBql0rdjPZW"
      },
      "execution_count": 2,
      "outputs": []
    },
    {
      "cell_type": "markdown",
      "source": [
        "# building the CNN"
      ],
      "metadata": {
        "id": "nYqVTFQejRoJ"
      }
    },
    {
      "cell_type": "markdown",
      "source": [
        "## initialising the CNN"
      ],
      "metadata": {
        "id": "Jb7xvkcMjUva"
      }
    },
    {
      "cell_type": "code",
      "source": [
        "cnn = tf.keras.models.Sequential()"
      ],
      "metadata": {
        "id": "sS6YTTY0jcnw"
      },
      "execution_count": null,
      "outputs": []
    },
    {
      "cell_type": "markdown",
      "source": [
        "## step-1 Convulation"
      ],
      "metadata": {
        "id": "6IYSrYm5jdl5"
      }
    },
    {
      "cell_type": "code",
      "source": [
        "cnn.add(tf.keras.layers.Conv2D(filters=32,\n",
        "                               kernel_size=3,\n",
        "                               activation='relu',\n",
        "                               input_shape=[64,64,3]\n",
        "                               ))"
      ],
      "metadata": {
        "id": "DpOez262jukz"
      },
      "execution_count": null,
      "outputs": []
    },
    {
      "cell_type": "markdown",
      "source": [
        "## step-2 pooling"
      ],
      "metadata": {
        "id": "M14voXuPjvkF"
      }
    },
    {
      "cell_type": "code",
      "source": [
        "cnn.add(tf.keras.layers.MaxPooling2D(pool_size=2,\n",
        "                                    strides=2))"
      ],
      "metadata": {
        "id": "BR4Tya9wjzp3"
      },
      "execution_count": null,
      "outputs": []
    },
    {
      "cell_type": "markdown",
      "source": [
        "## adding a second convulational layer"
      ],
      "metadata": {
        "id": "ettEnp5Jj0Yc"
      }
    },
    {
      "cell_type": "code",
      "source": [
        "cnn.add(tf.keras.layers.Conv2D(filters=32,\n",
        "                               kernel_size=3,\n",
        "                               activation='relu',\n",
        "                               ))\n",
        "cnn.add(tf.keras.layers.MaxPooling2D(pool_size=2,\n",
        "                                    strides=2))"
      ],
      "metadata": {
        "id": "YeKYgg7Gj7sp"
      },
      "execution_count": null,
      "outputs": []
    },
    {
      "cell_type": "markdown",
      "source": [
        "## step-3 flattening"
      ],
      "metadata": {
        "id": "sZ7VjrDHj8Hu"
      }
    },
    {
      "cell_type": "code",
      "source": [
        "cnn.add(tf.keras.layers.Flatten())"
      ],
      "metadata": {
        "id": "kmptefPtkAn_"
      },
      "execution_count": null,
      "outputs": []
    },
    {
      "cell_type": "markdown",
      "source": [
        "## step-4 full connection"
      ],
      "metadata": {
        "id": "8N4rVVyUkA_e"
      }
    },
    {
      "cell_type": "code",
      "source": [
        "cnn.add(tf.keras.layers.Dense(\n",
        "    units=128,\n",
        "    activation='relu'\n",
        "))"
      ],
      "metadata": {
        "id": "8VnGRdRlkEpr"
      },
      "execution_count": null,
      "outputs": []
    },
    {
      "cell_type": "markdown",
      "source": [
        "## output layer"
      ],
      "metadata": {
        "id": "RWWo3OpWkE3L"
      }
    },
    {
      "cell_type": "code",
      "source": [
        "cnn.add(tf.keras.layers.Dense(\n",
        "    units=1,\n",
        "    activation='sigmoid'\n",
        "))\n",
        "# we use binary classification problem so 'sigmoid' used. If we use multiclass\n",
        "# classification we will use 'softmax'"
      ],
      "metadata": {
        "id": "5-QUMaCpkG6N"
      },
      "execution_count": null,
      "outputs": []
    },
    {
      "cell_type": "markdown",
      "source": [
        "# training the CNN"
      ],
      "metadata": {
        "id": "j2cJbuzdkHPb"
      }
    },
    {
      "cell_type": "markdown",
      "source": [
        "## compiling the CNN"
      ],
      "metadata": {
        "id": "TnHr_KN0kKYW"
      }
    },
    {
      "cell_type": "code",
      "source": [
        "cnn.compile(optimizer = 'adam',\n",
        "            loss = 'binary_crossentropy',\n",
        "            metrics = ['accuracy'])"
      ],
      "metadata": {
        "id": "IEgEzv62kNg0"
      },
      "execution_count": null,
      "outputs": []
    },
    {
      "cell_type": "markdown",
      "source": [
        "## training the CNN on the training set and evaluating it on the test set"
      ],
      "metadata": {
        "id": "axNiHkU1kNy9"
      }
    },
    {
      "cell_type": "code",
      "source": [
        "cnn.fit(x = training_set,\n",
        "        validation_data = test_set,\n",
        "        epochs = 25,\n",
        "        )"
      ],
      "metadata": {
        "id": "CMXeVOxskVFb"
      },
      "execution_count": null,
      "outputs": []
    },
    {
      "cell_type": "markdown",
      "source": [
        "# making a single prediction"
      ],
      "metadata": {
        "id": "SQv6AL6GkXQg"
      }
    },
    {
      "cell_type": "code",
      "source": [
        "import numpy as np\n",
        "from keras.preprocessing import image\n",
        "\n",
        "test_image = image.load_img('datasets/single_prediction/cat_or_dog_1.jgp',\n",
        "                            target_size = (64,64))\n",
        "test_image = image.img_to_array(test_image)\n",
        "test_image = np.expand_dims(test_image, axis = 0)\n",
        "result = cnn.predict(test_image)\n",
        "training_set.class_indices\n",
        "if result[0][0] == 1:\n",
        "    prediction = 'dog'\n",
        "else:\n",
        "    prediction = 'cat'\n",
        "\n",
        "print(prediction)"
      ],
      "metadata": {
        "id": "9-CGTk8SkaxZ"
      },
      "execution_count": null,
      "outputs": []
    },
    {
      "cell_type": "code",
      "source": [],
      "metadata": {
        "id": "t9-0FHUBkbOk"
      },
      "execution_count": null,
      "outputs": []
    }
  ]
}